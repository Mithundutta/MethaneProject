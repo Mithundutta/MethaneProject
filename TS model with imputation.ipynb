{
 "cells": [
  {
   "cell_type": "markdown",
   "id": "c9efaf95",
   "metadata": {},
   "source": [
    "# Time series forecasting with Imputation for Methane Emission Monthly data"
   ]
  },
  {
   "cell_type": "markdown",
   "id": "a88c8e05",
   "metadata": {},
   "source": [
    "# Importing libraries"
   ]
  },
  {
   "cell_type": "code",
   "execution_count": 2,
   "id": "fcb4ebb6",
   "metadata": {},
   "outputs": [],
   "source": [
    "from fbprophet import Prophet\n",
    "import pandas as pd\n",
    "import numpy as np\n",
    "import matplotlib.pyplot as plt\n",
    "%matplotlib inline\n",
    "import seaborn as sns\n",
    "import warnings\n",
    "import plotly as py\n",
    "warnings.filterwarnings(\"ignore\")"
   ]
  },
  {
   "cell_type": "markdown",
   "id": "b95507f9",
   "metadata": {},
   "source": [
    "# Reading Monthly data "
   ]
  },
  {
   "cell_type": "code",
   "execution_count": 3,
   "id": "3b01801e",
   "metadata": {},
   "outputs": [
    {
     "data": {
      "text/html": [
       "<div>\n",
       "<style scoped>\n",
       "    .dataframe tbody tr th:only-of-type {\n",
       "        vertical-align: middle;\n",
       "    }\n",
       "\n",
       "    .dataframe tbody tr th {\n",
       "        vertical-align: top;\n",
       "    }\n",
       "\n",
       "    .dataframe thead th {\n",
       "        text-align: right;\n",
       "    }\n",
       "</style>\n",
       "<table border=\"1\" class=\"dataframe\">\n",
       "  <thead>\n",
       "    <tr style=\"text-align: right;\">\n",
       "      <th></th>\n",
       "      <th>Month</th>\n",
       "      <th>ADM2_PCODE</th>\n",
       "      <th>ADM2_EN</th>\n",
       "      <th>ZONE_CODE</th>\n",
       "      <th>COUNT</th>\n",
       "      <th>AREA</th>\n",
       "      <th>MIN</th>\n",
       "      <th>MAX</th>\n",
       "      <th>RANGE</th>\n",
       "      <th>MEAN</th>\n",
       "      <th>STD</th>\n",
       "      <th>SUM</th>\n",
       "    </tr>\n",
       "  </thead>\n",
       "  <tbody>\n",
       "    <tr>\n",
       "      <th>0</th>\n",
       "      <td>2019-01-01</td>\n",
       "      <td>BD4001</td>\n",
       "      <td>Bagerhat</td>\n",
       "      <td>1</td>\n",
       "      <td>3816.0</td>\n",
       "      <td>0.307940</td>\n",
       "      <td>1807.507202</td>\n",
       "      <td>1908.687622</td>\n",
       "      <td>101.180420</td>\n",
       "      <td>1858.995721</td>\n",
       "      <td>23.941344</td>\n",
       "      <td>7.093928e+06</td>\n",
       "    </tr>\n",
       "    <tr>\n",
       "      <th>1</th>\n",
       "      <td>2019-01-01</td>\n",
       "      <td>BD2003</td>\n",
       "      <td>Bandarban</td>\n",
       "      <td>2</td>\n",
       "      <td>4898.0</td>\n",
       "      <td>0.395254</td>\n",
       "      <td>1806.120483</td>\n",
       "      <td>1882.715576</td>\n",
       "      <td>76.595093</td>\n",
       "      <td>1843.522820</td>\n",
       "      <td>16.032945</td>\n",
       "      <td>9.029575e+06</td>\n",
       "    </tr>\n",
       "    <tr>\n",
       "      <th>2</th>\n",
       "      <td>2019-01-01</td>\n",
       "      <td>BD1004</td>\n",
       "      <td>Barguna</td>\n",
       "      <td>3</td>\n",
       "      <td>1420.0</td>\n",
       "      <td>0.114590</td>\n",
       "      <td>1814.506226</td>\n",
       "      <td>1936.939941</td>\n",
       "      <td>122.433716</td>\n",
       "      <td>1900.288210</td>\n",
       "      <td>33.386658</td>\n",
       "      <td>2.698409e+06</td>\n",
       "    </tr>\n",
       "    <tr>\n",
       "      <th>3</th>\n",
       "      <td>2019-01-01</td>\n",
       "      <td>BD1006</td>\n",
       "      <td>Barisal</td>\n",
       "      <td>4</td>\n",
       "      <td>2331.0</td>\n",
       "      <td>0.188105</td>\n",
       "      <td>1868.450806</td>\n",
       "      <td>1940.849976</td>\n",
       "      <td>72.399170</td>\n",
       "      <td>1887.722332</td>\n",
       "      <td>11.607219</td>\n",
       "      <td>4.400281e+06</td>\n",
       "    </tr>\n",
       "    <tr>\n",
       "      <th>4</th>\n",
       "      <td>2019-01-01</td>\n",
       "      <td>BD1009</td>\n",
       "      <td>Bhola</td>\n",
       "      <td>5</td>\n",
       "      <td>1905.0</td>\n",
       "      <td>0.153728</td>\n",
       "      <td>1878.400635</td>\n",
       "      <td>1950.949951</td>\n",
       "      <td>72.549316</td>\n",
       "      <td>1930.130305</td>\n",
       "      <td>27.223902</td>\n",
       "      <td>3.676898e+06</td>\n",
       "    </tr>\n",
       "  </tbody>\n",
       "</table>\n",
       "</div>"
      ],
      "text/plain": [
       "       Month ADM2_PCODE    ADM2_EN  ZONE_CODE   COUNT      AREA          MIN  \\\n",
       "0 2019-01-01     BD4001   Bagerhat          1  3816.0  0.307940  1807.507202   \n",
       "1 2019-01-01     BD2003  Bandarban          2  4898.0  0.395254  1806.120483   \n",
       "2 2019-01-01     BD1004    Barguna          3  1420.0  0.114590  1814.506226   \n",
       "3 2019-01-01     BD1006    Barisal          4  2331.0  0.188105  1868.450806   \n",
       "4 2019-01-01     BD1009      Bhola          5  1905.0  0.153728  1878.400635   \n",
       "\n",
       "           MAX       RANGE         MEAN        STD           SUM  \n",
       "0  1908.687622  101.180420  1858.995721  23.941344  7.093928e+06  \n",
       "1  1882.715576   76.595093  1843.522820  16.032945  9.029575e+06  \n",
       "2  1936.939941  122.433716  1900.288210  33.386658  2.698409e+06  \n",
       "3  1940.849976   72.399170  1887.722332  11.607219  4.400281e+06  \n",
       "4  1950.949951   72.549316  1930.130305  27.223902  3.676898e+06  "
      ]
     },
     "execution_count": 3,
     "metadata": {},
     "output_type": "execute_result"
    }
   ],
   "source": [
    "data = pd.read_excel(\"CONSOLIDATED DATASET MONTHLY.xlsx\",sheet_name='2019-2021final')\n",
    "# Check the first 5 elements of the dataframe\n",
    "data.head()"
   ]
  },
  {
   "cell_type": "code",
   "execution_count": 4,
   "id": "c8491ede",
   "metadata": {},
   "outputs": [
    {
     "data": {
      "text/plain": [
       "(2304, 12)"
      ]
     },
     "execution_count": 4,
     "metadata": {},
     "output_type": "execute_result"
    }
   ],
   "source": [
    "datanew=data.copy()\n",
    "datanew.shape"
   ]
  },
  {
   "cell_type": "code",
   "execution_count": 5,
   "id": "08faee87",
   "metadata": {},
   "outputs": [
    {
     "data": {
      "text/html": [
       "<div>\n",
       "<style scoped>\n",
       "    .dataframe tbody tr th:only-of-type {\n",
       "        vertical-align: middle;\n",
       "    }\n",
       "\n",
       "    .dataframe tbody tr th {\n",
       "        vertical-align: top;\n",
       "    }\n",
       "\n",
       "    .dataframe thead th {\n",
       "        text-align: right;\n",
       "    }\n",
       "</style>\n",
       "<table border=\"1\" class=\"dataframe\">\n",
       "  <thead>\n",
       "    <tr style=\"text-align: right;\">\n",
       "      <th></th>\n",
       "      <th>Month</th>\n",
       "      <th>ADM2_PCODE</th>\n",
       "      <th>ADM2_EN</th>\n",
       "      <th>ZONE_CODE</th>\n",
       "      <th>COUNT</th>\n",
       "      <th>AREA</th>\n",
       "      <th>MIN</th>\n",
       "      <th>MAX</th>\n",
       "      <th>RANGE</th>\n",
       "      <th>MEAN</th>\n",
       "      <th>STD</th>\n",
       "      <th>SUM</th>\n",
       "      <th>month</th>\n",
       "      <th>year</th>\n",
       "    </tr>\n",
       "  </thead>\n",
       "  <tbody>\n",
       "    <tr>\n",
       "      <th>512</th>\n",
       "      <td>2019-09-01</td>\n",
       "      <td>BD4001</td>\n",
       "      <td>Bagerhat</td>\n",
       "      <td>1</td>\n",
       "      <td>NaN</td>\n",
       "      <td>NaN</td>\n",
       "      <td>NaN</td>\n",
       "      <td>NaN</td>\n",
       "      <td>NaN</td>\n",
       "      <td>NaN</td>\n",
       "      <td>NaN</td>\n",
       "      <td>NaN</td>\n",
       "      <td>9</td>\n",
       "      <td>2019</td>\n",
       "    </tr>\n",
       "    <tr>\n",
       "      <th>513</th>\n",
       "      <td>2019-09-01</td>\n",
       "      <td>BD2003</td>\n",
       "      <td>Bandarban</td>\n",
       "      <td>2</td>\n",
       "      <td>NaN</td>\n",
       "      <td>NaN</td>\n",
       "      <td>NaN</td>\n",
       "      <td>NaN</td>\n",
       "      <td>NaN</td>\n",
       "      <td>NaN</td>\n",
       "      <td>NaN</td>\n",
       "      <td>NaN</td>\n",
       "      <td>9</td>\n",
       "      <td>2019</td>\n",
       "    </tr>\n",
       "    <tr>\n",
       "      <th>514</th>\n",
       "      <td>2019-09-01</td>\n",
       "      <td>BD1004</td>\n",
       "      <td>Barguna</td>\n",
       "      <td>3</td>\n",
       "      <td>NaN</td>\n",
       "      <td>NaN</td>\n",
       "      <td>NaN</td>\n",
       "      <td>NaN</td>\n",
       "      <td>NaN</td>\n",
       "      <td>NaN</td>\n",
       "      <td>NaN</td>\n",
       "      <td>NaN</td>\n",
       "      <td>9</td>\n",
       "      <td>2019</td>\n",
       "    </tr>\n",
       "    <tr>\n",
       "      <th>515</th>\n",
       "      <td>2019-09-01</td>\n",
       "      <td>BD1006</td>\n",
       "      <td>Barisal</td>\n",
       "      <td>4</td>\n",
       "      <td>NaN</td>\n",
       "      <td>NaN</td>\n",
       "      <td>NaN</td>\n",
       "      <td>NaN</td>\n",
       "      <td>NaN</td>\n",
       "      <td>NaN</td>\n",
       "      <td>NaN</td>\n",
       "      <td>NaN</td>\n",
       "      <td>9</td>\n",
       "      <td>2019</td>\n",
       "    </tr>\n",
       "    <tr>\n",
       "      <th>516</th>\n",
       "      <td>2019-09-01</td>\n",
       "      <td>BD1009</td>\n",
       "      <td>Bhola</td>\n",
       "      <td>5</td>\n",
       "      <td>NaN</td>\n",
       "      <td>NaN</td>\n",
       "      <td>NaN</td>\n",
       "      <td>NaN</td>\n",
       "      <td>NaN</td>\n",
       "      <td>NaN</td>\n",
       "      <td>NaN</td>\n",
       "      <td>NaN</td>\n",
       "      <td>9</td>\n",
       "      <td>2019</td>\n",
       "    </tr>\n",
       "  </tbody>\n",
       "</table>\n",
       "</div>"
      ],
      "text/plain": [
       "         Month ADM2_PCODE    ADM2_EN  ZONE_CODE  COUNT  AREA  MIN  MAX  RANGE  \\\n",
       "512 2019-09-01     BD4001   Bagerhat          1    NaN   NaN  NaN  NaN    NaN   \n",
       "513 2019-09-01     BD2003  Bandarban          2    NaN   NaN  NaN  NaN    NaN   \n",
       "514 2019-09-01     BD1004    Barguna          3    NaN   NaN  NaN  NaN    NaN   \n",
       "515 2019-09-01     BD1006    Barisal          4    NaN   NaN  NaN  NaN    NaN   \n",
       "516 2019-09-01     BD1009      Bhola          5    NaN   NaN  NaN  NaN    NaN   \n",
       "\n",
       "     MEAN  STD  SUM  month  year  \n",
       "512   NaN  NaN  NaN      9  2019  \n",
       "513   NaN  NaN  NaN      9  2019  \n",
       "514   NaN  NaN  NaN      9  2019  \n",
       "515   NaN  NaN  NaN      9  2019  \n",
       "516   NaN  NaN  NaN      9  2019  "
      ]
     },
     "execution_count": 5,
     "metadata": {},
     "output_type": "execute_result"
    }
   ],
   "source": [
    "datanew['month'] = pd.DatetimeIndex(datanew['Month']).month\n",
    "datanew['year'] = pd.DatetimeIndex(datanew['Month']).year\n",
    "dataSept = datanew[datanew['month'] == 9]\n",
    "dataSept.head()"
   ]
  },
  {
   "cell_type": "code",
   "execution_count": 6,
   "id": "17ec39c0",
   "metadata": {},
   "outputs": [
    {
     "data": {
      "text/plain": [
       "(192, 14)"
      ]
     },
     "execution_count": 6,
     "metadata": {},
     "output_type": "execute_result"
    }
   ],
   "source": [
    "dataSept.shape"
   ]
  },
  {
   "cell_type": "code",
   "execution_count": 7,
   "id": "d298d784",
   "metadata": {},
   "outputs": [],
   "source": [
    "# Get a month with data\n",
    "month = 9\n",
    "year = 2019\n",
    "dataJan = datanew[(datanew['month'] == month) & (datanew['year'] == year)]\n",
    "janMnth = dataJan[[\"Month\", \"MEAN\", \"month\", \"year\"]]"
   ]
  },
  {
   "cell_type": "code",
   "execution_count": 9,
   "id": "930392e2",
   "metadata": {},
   "outputs": [
    {
     "data": {
      "text/html": [
       "<div>\n",
       "<style scoped>\n",
       "    .dataframe tbody tr th:only-of-type {\n",
       "        vertical-align: middle;\n",
       "    }\n",
       "\n",
       "    .dataframe tbody tr th {\n",
       "        vertical-align: top;\n",
       "    }\n",
       "\n",
       "    .dataframe thead th {\n",
       "        text-align: right;\n",
       "    }\n",
       "</style>\n",
       "<table border=\"1\" class=\"dataframe\">\n",
       "  <thead>\n",
       "    <tr style=\"text-align: right;\">\n",
       "      <th></th>\n",
       "      <th>Month</th>\n",
       "      <th>MEAN</th>\n",
       "      <th>month</th>\n",
       "      <th>year</th>\n",
       "    </tr>\n",
       "  </thead>\n",
       "  <tbody>\n",
       "    <tr>\n",
       "      <th>512</th>\n",
       "      <td>2019-09-01</td>\n",
       "      <td>NaN</td>\n",
       "      <td>9</td>\n",
       "      <td>2019</td>\n",
       "    </tr>\n",
       "    <tr>\n",
       "      <th>513</th>\n",
       "      <td>2019-09-01</td>\n",
       "      <td>NaN</td>\n",
       "      <td>9</td>\n",
       "      <td>2019</td>\n",
       "    </tr>\n",
       "    <tr>\n",
       "      <th>514</th>\n",
       "      <td>2019-09-01</td>\n",
       "      <td>NaN</td>\n",
       "      <td>9</td>\n",
       "      <td>2019</td>\n",
       "    </tr>\n",
       "    <tr>\n",
       "      <th>515</th>\n",
       "      <td>2019-09-01</td>\n",
       "      <td>NaN</td>\n",
       "      <td>9</td>\n",
       "      <td>2019</td>\n",
       "    </tr>\n",
       "    <tr>\n",
       "      <th>516</th>\n",
       "      <td>2019-09-01</td>\n",
       "      <td>NaN</td>\n",
       "      <td>9</td>\n",
       "      <td>2019</td>\n",
       "    </tr>\n",
       "  </tbody>\n",
       "</table>\n",
       "</div>"
      ],
      "text/plain": [
       "         Month  MEAN  month  year\n",
       "512 2019-09-01   NaN      9  2019\n",
       "513 2019-09-01   NaN      9  2019\n",
       "514 2019-09-01   NaN      9  2019\n",
       "515 2019-09-01   NaN      9  2019\n",
       "516 2019-09-01   NaN      9  2019"
      ]
     },
     "execution_count": 9,
     "metadata": {},
     "output_type": "execute_result"
    }
   ],
   "source": [
    "janMnth.head()"
   ]
  },
  {
   "cell_type": "markdown",
   "id": "25395521",
   "metadata": {},
   "source": [
    "###  Function to impute data for september by 2.2% than annual minimum based on literature so the model is forced to predict an increase during monsoons\n",
    "(https://agupubs.onlinelibrary.wiley.com/doi/full/10.1002/2016JG003740)"
   ]
  },
  {
   "cell_type": "code",
   "execution_count": 17,
   "id": "48bc0a06",
   "metadata": {},
   "outputs": [],
   "source": [
    "def informedImputation(df, percentage_CH4_inc):\n",
    "    year = 2019\n",
    "    while year < 2022:\n",
    "        for district in range(64):\n",
    "            # Get existing data for a given month and year per \n",
    "            zoneCode = float(district)\n",
    "            # Get annual min mean for a given district\n",
    "            minAnnualMean = df.loc[(df['year'] == year) & (df['ZONE_CODE'] == zoneCode), 'MEAN'].min()\n",
    "\n",
    "            # Create synthetic MEAN Methane Emission data for Sept\n",
    "            minAnnualMean += (minAnnualMean * percentage_CH4_inc)\n",
    "\n",
    "            # Impute the mean with informed methane emission values basing on a percentage\n",
    "            month = 9\n",
    "            df.loc[(df['year'] == year) & (df['month'] == month) & (df['ZONE_CODE'] == zoneCode), 'MEAN'] = minAnnualMean\n",
    "        year += 1\n",
    "    \n",
    "    return df"
   ]
  },
  {
   "cell_type": "code",
   "execution_count": 18,
   "id": "c64921b5",
   "metadata": {},
   "outputs": [
    {
     "data": {
      "text/html": [
       "<div>\n",
       "<style scoped>\n",
       "    .dataframe tbody tr th:only-of-type {\n",
       "        vertical-align: middle;\n",
       "    }\n",
       "\n",
       "    .dataframe tbody tr th {\n",
       "        vertical-align: top;\n",
       "    }\n",
       "\n",
       "    .dataframe thead th {\n",
       "        text-align: right;\n",
       "    }\n",
       "</style>\n",
       "<table border=\"1\" class=\"dataframe\">\n",
       "  <thead>\n",
       "    <tr style=\"text-align: right;\">\n",
       "      <th></th>\n",
       "      <th>ds</th>\n",
       "      <th>ADM2_PCODE</th>\n",
       "      <th>ADM2_EN</th>\n",
       "      <th>ZONE_CODE</th>\n",
       "      <th>COUNT</th>\n",
       "      <th>AREA</th>\n",
       "      <th>MIN</th>\n",
       "      <th>MAX</th>\n",
       "      <th>RANGE</th>\n",
       "      <th>y</th>\n",
       "      <th>STD</th>\n",
       "      <th>SUM</th>\n",
       "      <th>month</th>\n",
       "      <th>year</th>\n",
       "    </tr>\n",
       "  </thead>\n",
       "  <tbody>\n",
       "    <tr>\n",
       "      <th>0</th>\n",
       "      <td>2019-01-01</td>\n",
       "      <td>BD4001</td>\n",
       "      <td>Bagerhat</td>\n",
       "      <td>1</td>\n",
       "      <td>3816.0</td>\n",
       "      <td>0.307940</td>\n",
       "      <td>1807.507202</td>\n",
       "      <td>1908.687622</td>\n",
       "      <td>101.180420</td>\n",
       "      <td>1858.995721</td>\n",
       "      <td>23.941344</td>\n",
       "      <td>7.093928e+06</td>\n",
       "      <td>1</td>\n",
       "      <td>2019</td>\n",
       "    </tr>\n",
       "    <tr>\n",
       "      <th>1</th>\n",
       "      <td>2019-01-01</td>\n",
       "      <td>BD2003</td>\n",
       "      <td>Bandarban</td>\n",
       "      <td>2</td>\n",
       "      <td>4898.0</td>\n",
       "      <td>0.395254</td>\n",
       "      <td>1806.120483</td>\n",
       "      <td>1882.715576</td>\n",
       "      <td>76.595093</td>\n",
       "      <td>1843.522820</td>\n",
       "      <td>16.032945</td>\n",
       "      <td>9.029575e+06</td>\n",
       "      <td>1</td>\n",
       "      <td>2019</td>\n",
       "    </tr>\n",
       "    <tr>\n",
       "      <th>2</th>\n",
       "      <td>2019-01-01</td>\n",
       "      <td>BD1004</td>\n",
       "      <td>Barguna</td>\n",
       "      <td>3</td>\n",
       "      <td>1420.0</td>\n",
       "      <td>0.114590</td>\n",
       "      <td>1814.506226</td>\n",
       "      <td>1936.939941</td>\n",
       "      <td>122.433716</td>\n",
       "      <td>1900.288210</td>\n",
       "      <td>33.386658</td>\n",
       "      <td>2.698409e+06</td>\n",
       "      <td>1</td>\n",
       "      <td>2019</td>\n",
       "    </tr>\n",
       "    <tr>\n",
       "      <th>3</th>\n",
       "      <td>2019-01-01</td>\n",
       "      <td>BD1006</td>\n",
       "      <td>Barisal</td>\n",
       "      <td>4</td>\n",
       "      <td>2331.0</td>\n",
       "      <td>0.188105</td>\n",
       "      <td>1868.450806</td>\n",
       "      <td>1940.849976</td>\n",
       "      <td>72.399170</td>\n",
       "      <td>1887.722332</td>\n",
       "      <td>11.607219</td>\n",
       "      <td>4.400281e+06</td>\n",
       "      <td>1</td>\n",
       "      <td>2019</td>\n",
       "    </tr>\n",
       "    <tr>\n",
       "      <th>4</th>\n",
       "      <td>2019-01-01</td>\n",
       "      <td>BD1009</td>\n",
       "      <td>Bhola</td>\n",
       "      <td>5</td>\n",
       "      <td>1905.0</td>\n",
       "      <td>0.153728</td>\n",
       "      <td>1878.400635</td>\n",
       "      <td>1950.949951</td>\n",
       "      <td>72.549316</td>\n",
       "      <td>1930.130305</td>\n",
       "      <td>27.223902</td>\n",
       "      <td>3.676898e+06</td>\n",
       "      <td>1</td>\n",
       "      <td>2019</td>\n",
       "    </tr>\n",
       "  </tbody>\n",
       "</table>\n",
       "</div>"
      ],
      "text/plain": [
       "          ds ADM2_PCODE    ADM2_EN  ZONE_CODE   COUNT      AREA          MIN  \\\n",
       "0 2019-01-01     BD4001   Bagerhat          1  3816.0  0.307940  1807.507202   \n",
       "1 2019-01-01     BD2003  Bandarban          2  4898.0  0.395254  1806.120483   \n",
       "2 2019-01-01     BD1004    Barguna          3  1420.0  0.114590  1814.506226   \n",
       "3 2019-01-01     BD1006    Barisal          4  2331.0  0.188105  1868.450806   \n",
       "4 2019-01-01     BD1009      Bhola          5  1905.0  0.153728  1878.400635   \n",
       "\n",
       "           MAX       RANGE            y        STD           SUM  month  year  \n",
       "0  1908.687622  101.180420  1858.995721  23.941344  7.093928e+06      1  2019  \n",
       "1  1882.715576   76.595093  1843.522820  16.032945  9.029575e+06      1  2019  \n",
       "2  1936.939941  122.433716  1900.288210  33.386658  2.698409e+06      1  2019  \n",
       "3  1940.849976   72.399170  1887.722332  11.607219  4.400281e+06      1  2019  \n",
       "4  1950.949951   72.549316  1930.130305  27.223902  3.676898e+06      1  2019  "
      ]
     },
     "execution_count": 18,
     "metadata": {},
     "output_type": "execute_result"
    }
   ],
   "source": [
    "percentage_CH4_inc = 0.022\n",
    "imputed_data = informedImputation(datanew, percentage_CH4_inc)\n",
    "imputed_data.rename({'Month': 'ds'}, axis=1, inplace=True)\n",
    "imputed_data.rename({'MEAN': 'y'}, axis=1, inplace=True)\n",
    "imputed_data.head()"
   ]
  },
  {
   "cell_type": "code",
   "execution_count": 19,
   "id": "df12fe81",
   "metadata": {},
   "outputs": [
    {
     "data": {
      "text/html": [
       "<div>\n",
       "<style scoped>\n",
       "    .dataframe tbody tr th:only-of-type {\n",
       "        vertical-align: middle;\n",
       "    }\n",
       "\n",
       "    .dataframe tbody tr th {\n",
       "        vertical-align: top;\n",
       "    }\n",
       "\n",
       "    .dataframe thead th {\n",
       "        text-align: right;\n",
       "    }\n",
       "</style>\n",
       "<table border=\"1\" class=\"dataframe\">\n",
       "  <thead>\n",
       "    <tr style=\"text-align: right;\">\n",
       "      <th></th>\n",
       "      <th>ds</th>\n",
       "      <th>ADM2_PCODE</th>\n",
       "      <th>ADM2_EN</th>\n",
       "      <th>ZONE_CODE</th>\n",
       "      <th>COUNT</th>\n",
       "      <th>AREA</th>\n",
       "      <th>MIN</th>\n",
       "      <th>MAX</th>\n",
       "      <th>RANGE</th>\n",
       "      <th>y</th>\n",
       "      <th>STD</th>\n",
       "      <th>SUM</th>\n",
       "      <th>month</th>\n",
       "      <th>year</th>\n",
       "    </tr>\n",
       "  </thead>\n",
       "  <tbody>\n",
       "    <tr>\n",
       "      <th>2048</th>\n",
       "      <td>2021-09-01</td>\n",
       "      <td>BD4001</td>\n",
       "      <td>Bagerhat</td>\n",
       "      <td>1</td>\n",
       "      <td>NaN</td>\n",
       "      <td>NaN</td>\n",
       "      <td>NaN</td>\n",
       "      <td>NaN</td>\n",
       "      <td>NaN</td>\n",
       "      <td>1918.318318</td>\n",
       "      <td>NaN</td>\n",
       "      <td>NaN</td>\n",
       "      <td>9</td>\n",
       "      <td>2021</td>\n",
       "    </tr>\n",
       "    <tr>\n",
       "      <th>2049</th>\n",
       "      <td>2021-09-01</td>\n",
       "      <td>BD2003</td>\n",
       "      <td>Bandarban</td>\n",
       "      <td>2</td>\n",
       "      <td>NaN</td>\n",
       "      <td>NaN</td>\n",
       "      <td>NaN</td>\n",
       "      <td>NaN</td>\n",
       "      <td>NaN</td>\n",
       "      <td>1913.244710</td>\n",
       "      <td>NaN</td>\n",
       "      <td>NaN</td>\n",
       "      <td>9</td>\n",
       "      <td>2021</td>\n",
       "    </tr>\n",
       "    <tr>\n",
       "      <th>2050</th>\n",
       "      <td>2021-09-01</td>\n",
       "      <td>BD1004</td>\n",
       "      <td>Barguna</td>\n",
       "      <td>3</td>\n",
       "      <td>NaN</td>\n",
       "      <td>NaN</td>\n",
       "      <td>NaN</td>\n",
       "      <td>NaN</td>\n",
       "      <td>NaN</td>\n",
       "      <td>1940.005138</td>\n",
       "      <td>NaN</td>\n",
       "      <td>NaN</td>\n",
       "      <td>9</td>\n",
       "      <td>2021</td>\n",
       "    </tr>\n",
       "    <tr>\n",
       "      <th>2051</th>\n",
       "      <td>2021-09-01</td>\n",
       "      <td>BD1006</td>\n",
       "      <td>Barisal</td>\n",
       "      <td>4</td>\n",
       "      <td>NaN</td>\n",
       "      <td>NaN</td>\n",
       "      <td>NaN</td>\n",
       "      <td>NaN</td>\n",
       "      <td>NaN</td>\n",
       "      <td>1930.611181</td>\n",
       "      <td>NaN</td>\n",
       "      <td>NaN</td>\n",
       "      <td>9</td>\n",
       "      <td>2021</td>\n",
       "    </tr>\n",
       "    <tr>\n",
       "      <th>2052</th>\n",
       "      <td>2021-09-01</td>\n",
       "      <td>BD1009</td>\n",
       "      <td>Bhola</td>\n",
       "      <td>5</td>\n",
       "      <td>NaN</td>\n",
       "      <td>NaN</td>\n",
       "      <td>NaN</td>\n",
       "      <td>NaN</td>\n",
       "      <td>NaN</td>\n",
       "      <td>1938.155199</td>\n",
       "      <td>NaN</td>\n",
       "      <td>NaN</td>\n",
       "      <td>9</td>\n",
       "      <td>2021</td>\n",
       "    </tr>\n",
       "  </tbody>\n",
       "</table>\n",
       "</div>"
      ],
      "text/plain": [
       "             ds ADM2_PCODE    ADM2_EN  ZONE_CODE  COUNT  AREA  MIN  MAX  \\\n",
       "2048 2021-09-01     BD4001   Bagerhat          1    NaN   NaN  NaN  NaN   \n",
       "2049 2021-09-01     BD2003  Bandarban          2    NaN   NaN  NaN  NaN   \n",
       "2050 2021-09-01     BD1004    Barguna          3    NaN   NaN  NaN  NaN   \n",
       "2051 2021-09-01     BD1006    Barisal          4    NaN   NaN  NaN  NaN   \n",
       "2052 2021-09-01     BD1009      Bhola          5    NaN   NaN  NaN  NaN   \n",
       "\n",
       "      RANGE            y  STD  SUM  month  year  \n",
       "2048    NaN  1918.318318  NaN  NaN      9  2021  \n",
       "2049    NaN  1913.244710  NaN  NaN      9  2021  \n",
       "2050    NaN  1940.005138  NaN  NaN      9  2021  \n",
       "2051    NaN  1930.611181  NaN  NaN      9  2021  \n",
       "2052    NaN  1938.155199  NaN  NaN      9  2021  "
      ]
     },
     "execution_count": 19,
     "metadata": {},
     "output_type": "execute_result"
    }
   ],
   "source": [
    "month = 9\n",
    "year = 2021\n",
    "imputed_data[(datanew['year'] == year) & (datanew['month'] == month)].head()"
   ]
  },
  {
   "cell_type": "code",
   "execution_count": 20,
   "id": "0f5224f0",
   "metadata": {},
   "outputs": [
    {
     "data": {
      "text/html": [
       "<div>\n",
       "<style scoped>\n",
       "    .dataframe tbody tr th:only-of-type {\n",
       "        vertical-align: middle;\n",
       "    }\n",
       "\n",
       "    .dataframe tbody tr th {\n",
       "        vertical-align: top;\n",
       "    }\n",
       "\n",
       "    .dataframe thead th {\n",
       "        text-align: right;\n",
       "    }\n",
       "</style>\n",
       "<table border=\"1\" class=\"dataframe\">\n",
       "  <thead>\n",
       "    <tr style=\"text-align: right;\">\n",
       "      <th></th>\n",
       "      <th>ds</th>\n",
       "      <th>COUNT</th>\n",
       "      <th>y</th>\n",
       "      <th>month</th>\n",
       "      <th>year</th>\n",
       "    </tr>\n",
       "  </thead>\n",
       "  <tbody>\n",
       "    <tr>\n",
       "      <th>0</th>\n",
       "      <td>2019-01-01</td>\n",
       "      <td>3816.0</td>\n",
       "      <td>1858.995721</td>\n",
       "      <td>1</td>\n",
       "      <td>2019</td>\n",
       "    </tr>\n",
       "    <tr>\n",
       "      <th>1</th>\n",
       "      <td>2019-01-01</td>\n",
       "      <td>4898.0</td>\n",
       "      <td>1843.522820</td>\n",
       "      <td>1</td>\n",
       "      <td>2019</td>\n",
       "    </tr>\n",
       "    <tr>\n",
       "      <th>2</th>\n",
       "      <td>2019-01-01</td>\n",
       "      <td>1420.0</td>\n",
       "      <td>1900.288210</td>\n",
       "      <td>1</td>\n",
       "      <td>2019</td>\n",
       "    </tr>\n",
       "    <tr>\n",
       "      <th>3</th>\n",
       "      <td>2019-01-01</td>\n",
       "      <td>2331.0</td>\n",
       "      <td>1887.722332</td>\n",
       "      <td>1</td>\n",
       "      <td>2019</td>\n",
       "    </tr>\n",
       "    <tr>\n",
       "      <th>4</th>\n",
       "      <td>2019-01-01</td>\n",
       "      <td>1905.0</td>\n",
       "      <td>1930.130305</td>\n",
       "      <td>1</td>\n",
       "      <td>2019</td>\n",
       "    </tr>\n",
       "  </tbody>\n",
       "</table>\n",
       "</div>"
      ],
      "text/plain": [
       "          ds   COUNT            y  month  year\n",
       "0 2019-01-01  3816.0  1858.995721      1  2019\n",
       "1 2019-01-01  4898.0  1843.522820      1  2019\n",
       "2 2019-01-01  1420.0  1900.288210      1  2019\n",
       "3 2019-01-01  2331.0  1887.722332      1  2019\n",
       "4 2019-01-01  1905.0  1930.130305      1  2019"
      ]
     },
     "execution_count": 20,
     "metadata": {},
     "output_type": "execute_result"
    }
   ],
   "source": [
    "imputed_data = imputed_data[[\"ds\",\"COUNT\", \"y\", \"month\", \"year\"]]\n",
    "imputed_data.head()"
   ]
  },
  {
   "cell_type": "markdown",
   "id": "12843635",
   "metadata": {},
   "source": [
    "## Imputation with Linear Interpolation"
   ]
  },
  {
   "cell_type": "code",
   "execution_count": 21,
   "id": "26d26753",
   "metadata": {},
   "outputs": [],
   "source": [
    "imputed_data2 = imputed_data.copy()"
   ]
  },
  {
   "cell_type": "code",
   "execution_count": 22,
   "id": "a1e1d030",
   "metadata": {},
   "outputs": [
    {
     "data": {
      "text/plain": [
       "(2304, 5)"
      ]
     },
     "execution_count": 22,
     "metadata": {},
     "output_type": "execute_result"
    }
   ],
   "source": [
    "imputed_data2.shape"
   ]
  },
  {
   "cell_type": "code",
   "execution_count": 23,
   "id": "c9935449",
   "metadata": {},
   "outputs": [
    {
     "name": "stdout",
     "output_type": "stream",
     "text": [
      "Missing: 963\n"
     ]
    },
    {
     "data": {
      "text/html": [
       "<div>\n",
       "<style scoped>\n",
       "    .dataframe tbody tr th:only-of-type {\n",
       "        vertical-align: middle;\n",
       "    }\n",
       "\n",
       "    .dataframe tbody tr th {\n",
       "        vertical-align: top;\n",
       "    }\n",
       "\n",
       "    .dataframe thead th {\n",
       "        text-align: right;\n",
       "    }\n",
       "</style>\n",
       "<table border=\"1\" class=\"dataframe\">\n",
       "  <thead>\n",
       "    <tr style=\"text-align: right;\">\n",
       "      <th></th>\n",
       "      <th>ds</th>\n",
       "      <th>y</th>\n",
       "    </tr>\n",
       "  </thead>\n",
       "  <tbody>\n",
       "    <tr>\n",
       "      <th>0</th>\n",
       "      <td>2019-01-01</td>\n",
       "      <td>1858.995721</td>\n",
       "    </tr>\n",
       "    <tr>\n",
       "      <th>1</th>\n",
       "      <td>2019-01-01</td>\n",
       "      <td>1843.522820</td>\n",
       "    </tr>\n",
       "    <tr>\n",
       "      <th>2</th>\n",
       "      <td>2019-01-01</td>\n",
       "      <td>1900.288210</td>\n",
       "    </tr>\n",
       "    <tr>\n",
       "      <th>3</th>\n",
       "      <td>2019-01-01</td>\n",
       "      <td>1887.722332</td>\n",
       "    </tr>\n",
       "    <tr>\n",
       "      <th>4</th>\n",
       "      <td>2019-01-01</td>\n",
       "      <td>1930.130305</td>\n",
       "    </tr>\n",
       "  </tbody>\n",
       "</table>\n",
       "</div>"
      ],
      "text/plain": [
       "          ds            y\n",
       "0 2019-01-01  1858.995721\n",
       "1 2019-01-01  1843.522820\n",
       "2 2019-01-01  1900.288210\n",
       "3 2019-01-01  1887.722332\n",
       "4 2019-01-01  1930.130305"
      ]
     },
     "execution_count": 23,
     "metadata": {},
     "output_type": "execute_result"
    }
   ],
   "source": [
    "nul_data = pd.isnull(imputed_data2['y']) \n",
    "print('Missing: %d' % len(imputed_data2[nul_data]))\n",
    "imputed_data2 = imputed_data2[[\"ds\", \"y\"]]\n",
    "imputed_data2.head()"
   ]
  },
  {
   "cell_type": "code",
   "execution_count": 24,
   "id": "5c485910",
   "metadata": {},
   "outputs": [],
   "source": [
    "# on our data, impute the missing values using rolling window method\n",
    "imputed_data2['y']= imputed_data2['y'].interpolate(method='linear')"
   ]
  },
  {
   "cell_type": "code",
   "execution_count": 25,
   "id": "5960f40b",
   "metadata": {},
   "outputs": [
    {
     "name": "stdout",
     "output_type": "stream",
     "text": [
      "Missing: 0\n"
     ]
    }
   ],
   "source": [
    "nul_data = pd.isnull(imputed_data2['y']) \n",
    "print('Missing: %d' % len(imputed_data2[nul_data]))"
   ]
  },
  {
   "cell_type": "markdown",
   "id": "398418da",
   "metadata": {},
   "source": [
    "# visualize the dataframe i.e. Methane emission"
   ]
  },
  {
   "cell_type": "code",
   "execution_count": 27,
   "id": "88650737",
   "metadata": {},
   "outputs": [
    {
     "data": {
      "image/png": "[encoded data removed]",
      "text/plain": [
       "<Figure size 1440x360 with 1 Axes>"
      ]
     },
     "metadata": {
      "needs_background": "light"
     },
     "output_type": "display_data"
    }
   ],
   "source": [
    "#Visualize the dataframe i.e. \n",
    "plt.figure(figsize=(20,5))\n",
    "sns.lineplot(data=imputed_data2, x=\"ds\", y=\"y\", color='green')\n",
    "plt.title(\"Average Methane Emission\")\n",
    "plt.grid(True)\n",
    "plt.show()"
   ]
  },
  {
   "cell_type": "markdown",
   "id": "3920a728",
   "metadata": {},
   "source": [
    "## Imputation with KNN"
   ]
  },
  {
   "cell_type": "code",
   "execution_count": 86,
   "id": "8ddce0ed",
   "metadata": {},
   "outputs": [],
   "source": [
    "imputed_data3 = imputed_data.copy()"
   ]
  },
  {
   "cell_type": "code",
   "execution_count": 87,
   "id": "e0050041",
   "metadata": {},
   "outputs": [
    {
     "name": "stdout",
     "output_type": "stream",
     "text": [
      "Missing: 963\n"
     ]
    },
    {
     "data": {
      "text/html": [
       "<div>\n",
       "<style scoped>\n",
       "    .dataframe tbody tr th:only-of-type {\n",
       "        vertical-align: middle;\n",
       "    }\n",
       "\n",
       "    .dataframe tbody tr th {\n",
       "        vertical-align: top;\n",
       "    }\n",
       "\n",
       "    .dataframe thead th {\n",
       "        text-align: right;\n",
       "    }\n",
       "</style>\n",
       "<table border=\"1\" class=\"dataframe\">\n",
       "  <thead>\n",
       "    <tr style=\"text-align: right;\">\n",
       "      <th></th>\n",
       "      <th>ds</th>\n",
       "      <th>COUNT</th>\n",
       "      <th>y</th>\n",
       "    </tr>\n",
       "  </thead>\n",
       "  <tbody>\n",
       "    <tr>\n",
       "      <th>0</th>\n",
       "      <td>2019-01-01</td>\n",
       "      <td>3816.0</td>\n",
       "      <td>1858.995721</td>\n",
       "    </tr>\n",
       "    <tr>\n",
       "      <th>1</th>\n",
       "      <td>2019-01-01</td>\n",
       "      <td>4898.0</td>\n",
       "      <td>1843.522820</td>\n",
       "    </tr>\n",
       "    <tr>\n",
       "      <th>2</th>\n",
       "      <td>2019-01-01</td>\n",
       "      <td>1420.0</td>\n",
       "      <td>1900.288210</td>\n",
       "    </tr>\n",
       "    <tr>\n",
       "      <th>3</th>\n",
       "      <td>2019-01-01</td>\n",
       "      <td>2331.0</td>\n",
       "      <td>1887.722332</td>\n",
       "    </tr>\n",
       "    <tr>\n",
       "      <th>4</th>\n",
       "      <td>2019-01-01</td>\n",
       "      <td>1905.0</td>\n",
       "      <td>1930.130305</td>\n",
       "    </tr>\n",
       "  </tbody>\n",
       "</table>\n",
       "</div>"
      ],
      "text/plain": [
       "          ds   COUNT            y\n",
       "0 2019-01-01  3816.0  1858.995721\n",
       "1 2019-01-01  4898.0  1843.522820\n",
       "2 2019-01-01  1420.0  1900.288210\n",
       "3 2019-01-01  2331.0  1887.722332\n",
       "4 2019-01-01  1905.0  1930.130305"
      ]
     },
     "execution_count": 87,
     "metadata": {},
     "output_type": "execute_result"
    }
   ],
   "source": [
    "nul_data = pd.isnull(imputed_data3['y']) \n",
    "print('Missing: %d' % len(imputed_data3[nul_data]))\n",
    "imputed_data3 = imputed_data3[[\"ds\", \"COUNT\", \"y\"]]\n",
    "imputed_data3.head()"
   ]
  },
  {
   "cell_type": "code",
   "execution_count": 88,
   "id": "096eab4b",
   "metadata": {},
   "outputs": [],
   "source": [
    "import numpy as np\n",
    "import pandas as pd\n",
    "from sklearn.impute import KNNImputer\n",
    "from sklearn.preprocessing import MinMaxScaler\n",
    "\n",
    "# df = pd.DataFrame({'A':['a','b','a',np.nan,'a','b','c'] , 'B':[1,2,3,4,6,7,9] , 'C':['q','e',np.nan,'w','w','e','q']})  \n",
    "\n",
    "mm = MinMaxScaler()\n",
    "\n",
    "def find_category_mappings(df, variable):\n",
    "    return {k: i for i, k in enumerate(df[variable].dropna().unique(), 0)}\n",
    "\n",
    "def integer_encode(df , variable, ordinal_mapping):\n",
    "    df[variable] = df[variable].map(ordinal_mapping)\n",
    "\n",
    "mappin = dict()\n",
    "def imputation(df1 , cols):\n",
    "    df = df1.copy()\n",
    "    #Encoding dict &amp; Removing nan    \n",
    "    #mappin = dict()\n",
    "    for variable in cols:\n",
    "        mappings = find_category_mappings(df, variable)\n",
    "        mappin[variable] = mappings\n",
    "\n",
    "    #Apply mapping\n",
    "    for variable in cols:\n",
    "        integer_encode(df, variable, mappin[variable])  \n",
    "\n",
    "    #Minmaxscaler and KNN imputation \n",
    "    sca = mm.fit_transform(df)\n",
    "    knn_imputer = KNNImputer(n_neighbors=5, weights='uniform', metric='nan_euclidean')\n",
    "    knn = knn_imputer.fit_transform(sca)\n",
    "    df.iloc[:,:] = mm.inverse_transform(knn)\n",
    "    for i in df.columns : \n",
    "        df[i] = round(df[i]).astype('int')\n",
    "\n",
    "    #Inverse transform\n",
    "    for i in cols:\n",
    "        inv_map = {v: k for k, v in mappin[i].items()}\n",
    "        df[i] = df[i].map(inv_map)\n",
    "    return df"
   ]
  },
  {
   "cell_type": "code",
   "execution_count": 89,
   "id": "72e5c707",
   "metadata": {},
   "outputs": [
    {
     "data": {
      "text/html": [
       "<div>\n",
       "<style scoped>\n",
       "    .dataframe tbody tr th:only-of-type {\n",
       "        vertical-align: middle;\n",
       "    }\n",
       "\n",
       "    .dataframe tbody tr th {\n",
       "        vertical-align: top;\n",
       "    }\n",
       "\n",
       "    .dataframe thead th {\n",
       "        text-align: right;\n",
       "    }\n",
       "</style>\n",
       "<table border=\"1\" class=\"dataframe\">\n",
       "  <thead>\n",
       "    <tr style=\"text-align: right;\">\n",
       "      <th></th>\n",
       "      <th>COUNT</th>\n",
       "      <th>y</th>\n",
       "    </tr>\n",
       "  </thead>\n",
       "  <tbody>\n",
       "    <tr>\n",
       "      <th>0</th>\n",
       "      <td>3816</td>\n",
       "      <td>1858.995721</td>\n",
       "    </tr>\n",
       "    <tr>\n",
       "      <th>1</th>\n",
       "      <td>4898</td>\n",
       "      <td>1843.522820</td>\n",
       "    </tr>\n",
       "    <tr>\n",
       "      <th>2</th>\n",
       "      <td>1420</td>\n",
       "      <td>1900.288210</td>\n",
       "    </tr>\n",
       "    <tr>\n",
       "      <th>3</th>\n",
       "      <td>2331</td>\n",
       "      <td>1887.722332</td>\n",
       "    </tr>\n",
       "    <tr>\n",
       "      <th>4</th>\n",
       "      <td>1905</td>\n",
       "      <td>1930.130305</td>\n",
       "    </tr>\n",
       "  </tbody>\n",
       "</table>\n",
       "</div>"
      ],
      "text/plain": [
       "   COUNT            y\n",
       "0   3816  1858.995721\n",
       "1   4898  1843.522820\n",
       "2   1420  1900.288210\n",
       "3   2331  1887.722332\n",
       "4   1905  1930.130305"
      ]
     },
     "execution_count": 89,
     "metadata": {},
     "output_type": "execute_result"
    }
   ],
   "source": [
    "cols_ = ['y']\n",
    "#Define a subset of the dataset\n",
    "df_knn = imputed_data3.filter(['COUNT','y'], axis=1).copy()\n",
    "df_knn_imputed = imputation(df_knn, cols_)\n",
    "df_knn_imputed.head()"
   ]
  },
  {
   "cell_type": "code",
   "execution_count": 90,
   "id": "dbb7046c",
   "metadata": {},
   "outputs": [
    {
     "name": "stdout",
     "output_type": "stream",
     "text": [
      "Missing: 0\n"
     ]
    }
   ],
   "source": [
    "nul_data = pd.isnull(df_knn_imputed['y']) \n",
    "print('Missing: %d' % len(df_knn_imputed[nul_data]))"
   ]
  },
  {
   "cell_type": "code",
   "execution_count": 91,
   "id": "30c7256c",
   "metadata": {},
   "outputs": [
    {
     "name": "stdout",
     "output_type": "stream",
     "text": [
      "2299   2021-12-01\n",
      "2300   2021-12-01\n",
      "2301   2021-12-01\n",
      "2302   2021-12-01\n",
      "2303   2021-12-01\n",
      "Name: ds, dtype: datetime64[ns]\n"
     ]
    }
   ],
   "source": [
    "#Separate dates for future plotting\n",
    "train_dates = pd.to_datetime(imputed_data['ds'])\n",
    "print(train_dates.tail()) #Check last few dates. "
   ]
  },
  {
   "cell_type": "code",
   "execution_count": 92,
   "id": "c8805d60",
   "metadata": {},
   "outputs": [
    {
     "name": "stdout",
     "output_type": "stream",
     "text": [
      "2299    1918.658255\n",
      "2300    1904.396624\n",
      "2301    1905.529753\n",
      "2302    1916.621156\n",
      "2303    1919.336884\n",
      "Name: y, dtype: float64\n"
     ]
    }
   ],
   "source": [
    "#Separate dates for future plotting\n",
    "y = df_knn_imputed['y']\n",
    "print(y.tail()) #Check last few dates. "
   ]
  },
  {
   "cell_type": "code",
   "execution_count": 93,
   "id": "b1652b41",
   "metadata": {},
   "outputs": [
    {
     "data": {
      "text/html": [
       "<div>\n",
       "<style scoped>\n",
       "    .dataframe tbody tr th:only-of-type {\n",
       "        vertical-align: middle;\n",
       "    }\n",
       "\n",
       "    .dataframe tbody tr th {\n",
       "        vertical-align: top;\n",
       "    }\n",
       "\n",
       "    .dataframe thead th {\n",
       "        text-align: right;\n",
       "    }\n",
       "</style>\n",
       "<table border=\"1\" class=\"dataframe\">\n",
       "  <thead>\n",
       "    <tr style=\"text-align: right;\">\n",
       "      <th></th>\n",
       "      <th>ds</th>\n",
       "      <th>y</th>\n",
       "    </tr>\n",
       "  </thead>\n",
       "  <tbody>\n",
       "    <tr>\n",
       "      <th>2299</th>\n",
       "      <td>2021-12-01</td>\n",
       "      <td>1918.658255</td>\n",
       "    </tr>\n",
       "    <tr>\n",
       "      <th>2300</th>\n",
       "      <td>2021-12-01</td>\n",
       "      <td>1904.396624</td>\n",
       "    </tr>\n",
       "    <tr>\n",
       "      <th>2301</th>\n",
       "      <td>2021-12-01</td>\n",
       "      <td>1905.529753</td>\n",
       "    </tr>\n",
       "    <tr>\n",
       "      <th>2302</th>\n",
       "      <td>2021-12-01</td>\n",
       "      <td>1916.621156</td>\n",
       "    </tr>\n",
       "    <tr>\n",
       "      <th>2303</th>\n",
       "      <td>2021-12-01</td>\n",
       "      <td>1919.336884</td>\n",
       "    </tr>\n",
       "  </tbody>\n",
       "</table>\n",
       "</div>"
      ],
      "text/plain": [
       "             ds            y\n",
       "2299 2021-12-01  1918.658255\n",
       "2300 2021-12-01  1904.396624\n",
       "2301 2021-12-01  1905.529753\n",
       "2302 2021-12-01  1916.621156\n",
       "2303 2021-12-01  1919.336884"
      ]
     },
     "execution_count": 93,
     "metadata": {},
     "output_type": "execute_result"
    }
   ],
   "source": [
    "# Join the dates and the means tobe predicted\n",
    "means_df = pd.concat([train_dates, y], axis=1)\n",
    "means_df.tail()"
   ]
  },
  {
   "cell_type": "code",
   "execution_count": 94,
   "id": "50f35615",
   "metadata": {},
   "outputs": [
    {
     "data": {
      "image/png": "[encoded data removed]",
      "text/plain": [
       "<Figure size 1440x360 with 1 Axes>"
      ]
     },
     "metadata": {
      "needs_background": "light"
     },
     "output_type": "display_data"
    }
   ],
   "source": [
    "#Visualize the dataframe i.e. Methane emissions\n",
    "plt.figure(figsize=(20,5))\n",
    "sns.lineplot(data=means_df, x=\"ds\", y=\"y\", color='green')\n",
    "plt.title(\"Average Methane Emission after Imputation\")\n",
    "plt.grid(True)\n",
    "plt.show()"
   ]
  },
  {
   "cell_type": "markdown",
   "id": "4996d316",
   "metadata": {},
   "source": [
    "# Prediction & Forecast with Prophet "
   ]
  },
  {
   "cell_type": "markdown",
   "id": "6659af37",
   "metadata": {},
   "source": [
    "### Using linear Interpolation Imputed Data"
   ]
  },
  {
   "cell_type": "code",
   "execution_count": 37,
   "id": "b575f111",
   "metadata": {},
   "outputs": [
    {
     "name": "stderr",
     "output_type": "stream",
     "text": [
      "INFO:fbprophet:Disabling weekly seasonality. Run prophet with weekly_seasonality=True to override this.\n",
      "INFO:fbprophet:Disabling daily seasonality. Run prophet with daily_seasonality=True to override this.\n"
     ]
    },
    {
     "data": {
      "text/plain": [
       "<fbprophet.forecaster.Prophet at 0x1bd74e51ca0>"
      ]
     },
     "execution_count": 37,
     "metadata": {},
     "output_type": "execute_result"
    }
   ],
   "source": [
    "# model = Prophet()\n",
    "# model.fit(imputed_data2)"
   ]
  },
  {
   "cell_type": "code",
   "execution_count": 95,
   "id": "ccbf83d9",
   "metadata": {},
   "outputs": [
    {
     "name": "stderr",
     "output_type": "stream",
     "text": [
      "INFO:fbprophet:Disabling weekly seasonality. Run prophet with weekly_seasonality=True to override this.\n",
      "INFO:fbprophet:Disabling daily seasonality. Run prophet with daily_seasonality=True to override this.\n"
     ]
    },
    {
     "data": {
      "text/plain": [
       "<fbprophet.forecaster.Prophet at 0x1bd75098f70>"
      ]
     },
     "execution_count": 95,
     "metadata": {},
     "output_type": "execute_result"
    }
   ],
   "source": [
    "li_model2 = Prophet(changepoint_prior_scale= 0.01, seasonality_prior_scale = 0.1)\n",
    "li_model2.fit(imputed_data2)"
   ]
  },
  {
   "cell_type": "code",
   "execution_count": 96,
   "id": "b8a73837",
   "metadata": {},
   "outputs": [],
   "source": [
    "future = li_model2.make_future_dataframe(periods= 24, freq='m')"
   ]
  },
  {
   "cell_type": "code",
   "execution_count": 97,
   "id": "3933a8e1",
   "metadata": {},
   "outputs": [
    {
     "data": {
      "text/html": [
       "<div>\n",
       "<style scoped>\n",
       "    .dataframe tbody tr th:only-of-type {\n",
       "        vertical-align: middle;\n",
       "    }\n",
       "\n",
       "    .dataframe tbody tr th {\n",
       "        vertical-align: top;\n",
       "    }\n",
       "\n",
       "    .dataframe thead th {\n",
       "        text-align: right;\n",
       "    }\n",
       "</style>\n",
       "<table border=\"1\" class=\"dataframe\">\n",
       "  <thead>\n",
       "    <tr style=\"text-align: right;\">\n",
       "      <th></th>\n",
       "      <th>ds</th>\n",
       "    </tr>\n",
       "  </thead>\n",
       "  <tbody>\n",
       "    <tr>\n",
       "      <th>48</th>\n",
       "      <td>2022-12-31</td>\n",
       "    </tr>\n",
       "    <tr>\n",
       "      <th>49</th>\n",
       "      <td>2023-01-31</td>\n",
       "    </tr>\n",
       "    <tr>\n",
       "      <th>50</th>\n",
       "      <td>2023-02-28</td>\n",
       "    </tr>\n",
       "    <tr>\n",
       "      <th>51</th>\n",
       "      <td>2023-03-31</td>\n",
       "    </tr>\n",
       "    <tr>\n",
       "      <th>52</th>\n",
       "      <td>2023-04-30</td>\n",
       "    </tr>\n",
       "    <tr>\n",
       "      <th>53</th>\n",
       "      <td>2023-05-31</td>\n",
       "    </tr>\n",
       "    <tr>\n",
       "      <th>54</th>\n",
       "      <td>2023-06-30</td>\n",
       "    </tr>\n",
       "    <tr>\n",
       "      <th>55</th>\n",
       "      <td>2023-07-31</td>\n",
       "    </tr>\n",
       "    <tr>\n",
       "      <th>56</th>\n",
       "      <td>2023-08-31</td>\n",
       "    </tr>\n",
       "    <tr>\n",
       "      <th>57</th>\n",
       "      <td>2023-09-30</td>\n",
       "    </tr>\n",
       "    <tr>\n",
       "      <th>58</th>\n",
       "      <td>2023-10-31</td>\n",
       "    </tr>\n",
       "    <tr>\n",
       "      <th>59</th>\n",
       "      <td>2023-11-30</td>\n",
       "    </tr>\n",
       "  </tbody>\n",
       "</table>\n",
       "</div>"
      ],
      "text/plain": [
       "           ds\n",
       "48 2022-12-31\n",
       "49 2023-01-31\n",
       "50 2023-02-28\n",
       "51 2023-03-31\n",
       "52 2023-04-30\n",
       "53 2023-05-31\n",
       "54 2023-06-30\n",
       "55 2023-07-31\n",
       "56 2023-08-31\n",
       "57 2023-09-30\n",
       "58 2023-10-31\n",
       "59 2023-11-30"
      ]
     },
     "execution_count": 97,
     "metadata": {},
     "output_type": "execute_result"
    }
   ],
   "source": [
    "future.tail(12)"
   ]
  },
  {
   "cell_type": "code",
   "execution_count": 98,
   "id": "6f4f7f06",
   "metadata": {},
   "outputs": [
    {
     "data": {
      "text/html": [
       "<div>\n",
       "<style scoped>\n",
       "    .dataframe tbody tr th:only-of-type {\n",
       "        vertical-align: middle;\n",
       "    }\n",
       "\n",
       "    .dataframe tbody tr th {\n",
       "        vertical-align: top;\n",
       "    }\n",
       "\n",
       "    .dataframe thead th {\n",
       "        text-align: right;\n",
       "    }\n",
       "</style>\n",
       "<table border=\"1\" class=\"dataframe\">\n",
       "  <thead>\n",
       "    <tr style=\"text-align: right;\">\n",
       "      <th></th>\n",
       "      <th>ds</th>\n",
       "      <th>trend</th>\n",
       "      <th>yhat_lower</th>\n",
       "      <th>yhat_upper</th>\n",
       "      <th>trend_lower</th>\n",
       "      <th>trend_upper</th>\n",
       "      <th>additive_terms</th>\n",
       "      <th>additive_terms_lower</th>\n",
       "      <th>additive_terms_upper</th>\n",
       "      <th>yearly</th>\n",
       "      <th>yearly_lower</th>\n",
       "      <th>yearly_upper</th>\n",
       "      <th>multiplicative_terms</th>\n",
       "      <th>multiplicative_terms_lower</th>\n",
       "      <th>multiplicative_terms_upper</th>\n",
       "      <th>yhat</th>\n",
       "    </tr>\n",
       "  </thead>\n",
       "  <tbody>\n",
       "    <tr>\n",
       "      <th>55</th>\n",
       "      <td>2023-07-31</td>\n",
       "      <td>1924.698130</td>\n",
       "      <td>1905.278484</td>\n",
       "      <td>1945.869749</td>\n",
       "      <td>1914.169668</td>\n",
       "      <td>1934.018894</td>\n",
       "      <td>2.647380</td>\n",
       "      <td>2.647380</td>\n",
       "      <td>2.647380</td>\n",
       "      <td>2.647380</td>\n",
       "      <td>2.647380</td>\n",
       "      <td>2.647380</td>\n",
       "      <td>0.0</td>\n",
       "      <td>0.0</td>\n",
       "      <td>0.0</td>\n",
       "      <td>1927.345510</td>\n",
       "    </tr>\n",
       "    <tr>\n",
       "      <th>56</th>\n",
       "      <td>2023-08-31</td>\n",
       "      <td>1924.748822</td>\n",
       "      <td>1930.132203</td>\n",
       "      <td>1967.386998</td>\n",
       "      <td>1913.264838</td>\n",
       "      <td>1934.529619</td>\n",
       "      <td>24.282897</td>\n",
       "      <td>24.282897</td>\n",
       "      <td>24.282897</td>\n",
       "      <td>24.282897</td>\n",
       "      <td>24.282897</td>\n",
       "      <td>24.282897</td>\n",
       "      <td>0.0</td>\n",
       "      <td>0.0</td>\n",
       "      <td>0.0</td>\n",
       "      <td>1949.031719</td>\n",
       "    </tr>\n",
       "    <tr>\n",
       "      <th>57</th>\n",
       "      <td>2023-09-30</td>\n",
       "      <td>1924.797879</td>\n",
       "      <td>1921.601201</td>\n",
       "      <td>1962.479600</td>\n",
       "      <td>1912.508883</td>\n",
       "      <td>1935.508050</td>\n",
       "      <td>17.765564</td>\n",
       "      <td>17.765564</td>\n",
       "      <td>17.765564</td>\n",
       "      <td>17.765564</td>\n",
       "      <td>17.765564</td>\n",
       "      <td>17.765564</td>\n",
       "      <td>0.0</td>\n",
       "      <td>0.0</td>\n",
       "      <td>0.0</td>\n",
       "      <td>1942.563442</td>\n",
       "    </tr>\n",
       "    <tr>\n",
       "      <th>58</th>\n",
       "      <td>2023-10-31</td>\n",
       "      <td>1924.848571</td>\n",
       "      <td>1902.279740</td>\n",
       "      <td>1944.845273</td>\n",
       "      <td>1911.633779</td>\n",
       "      <td>1936.413690</td>\n",
       "      <td>-0.995837</td>\n",
       "      <td>-0.995837</td>\n",
       "      <td>-0.995837</td>\n",
       "      <td>-0.995837</td>\n",
       "      <td>-0.995837</td>\n",
       "      <td>-0.995837</td>\n",
       "      <td>0.0</td>\n",
       "      <td>0.0</td>\n",
       "      <td>0.0</td>\n",
       "      <td>1923.852734</td>\n",
       "    </tr>\n",
       "    <tr>\n",
       "      <th>59</th>\n",
       "      <td>2023-11-30</td>\n",
       "      <td>1924.897628</td>\n",
       "      <td>1889.106871</td>\n",
       "      <td>1933.056519</td>\n",
       "      <td>1911.144552</td>\n",
       "      <td>1937.430268</td>\n",
       "      <td>-12.390578</td>\n",
       "      <td>-12.390578</td>\n",
       "      <td>-12.390578</td>\n",
       "      <td>-12.390578</td>\n",
       "      <td>-12.390578</td>\n",
       "      <td>-12.390578</td>\n",
       "      <td>0.0</td>\n",
       "      <td>0.0</td>\n",
       "      <td>0.0</td>\n",
       "      <td>1912.507050</td>\n",
       "    </tr>\n",
       "  </tbody>\n",
       "</table>\n",
       "</div>"
      ],
      "text/plain": [
       "           ds        trend   yhat_lower   yhat_upper  trend_lower  \\\n",
       "55 2023-07-31  1924.698130  1905.278484  1945.869749  1914.169668   \n",
       "56 2023-08-31  1924.748822  1930.132203  1967.386998  1913.264838   \n",
       "57 2023-09-30  1924.797879  1921.601201  1962.479600  1912.508883   \n",
       "58 2023-10-31  1924.848571  1902.279740  1944.845273  1911.633779   \n",
       "59 2023-11-30  1924.897628  1889.106871  1933.056519  1911.144552   \n",
       "\n",
       "    trend_upper  additive_terms  additive_terms_lower  additive_terms_upper  \\\n",
       "55  1934.018894        2.647380              2.647380              2.647380   \n",
       "56  1934.529619       24.282897             24.282897             24.282897   \n",
       "57  1935.508050       17.765564             17.765564             17.765564   \n",
       "58  1936.413690       -0.995837             -0.995837             -0.995837   \n",
       "59  1937.430268      -12.390578            -12.390578            -12.390578   \n",
       "\n",
       "       yearly  yearly_lower  yearly_upper  multiplicative_terms  \\\n",
       "55   2.647380      2.647380      2.647380                   0.0   \n",
       "56  24.282897     24.282897     24.282897                   0.0   \n",
       "57  17.765564     17.765564     17.765564                   0.0   \n",
       "58  -0.995837     -0.995837     -0.995837                   0.0   \n",
       "59 -12.390578    -12.390578    -12.390578                   0.0   \n",
       "\n",
       "    multiplicative_terms_lower  multiplicative_terms_upper         yhat  \n",
       "55                         0.0                         0.0  1927.345510  \n",
       "56                         0.0                         0.0  1949.031719  \n",
       "57                         0.0                         0.0  1942.563442  \n",
       "58                         0.0                         0.0  1923.852734  \n",
       "59                         0.0                         0.0  1912.507050  "
      ]
     },
     "execution_count": 98,
     "metadata": {},
     "output_type": "execute_result"
    }
   ],
   "source": [
    "forecast = li_model2.predict(future)\n",
    "forecast.tail()"
   ]
  },
  {
   "cell_type": "code",
   "execution_count": 99,
   "id": "afc394e7",
   "metadata": {},
   "outputs": [
    {
     "data": {
      "text/html": [
       "<div>\n",
       "<style scoped>\n",
       "    .dataframe tbody tr th:only-of-type {\n",
       "        vertical-align: middle;\n",
       "    }\n",
       "\n",
       "    .dataframe tbody tr th {\n",
       "        vertical-align: top;\n",
       "    }\n",
       "\n",
       "    .dataframe thead th {\n",
       "        text-align: right;\n",
       "    }\n",
       "</style>\n",
       "<table border=\"1\" class=\"dataframe\">\n",
       "  <thead>\n",
       "    <tr style=\"text-align: right;\">\n",
       "      <th></th>\n",
       "      <th>ds</th>\n",
       "      <th>yhat</th>\n",
       "      <th>yhat_lower</th>\n",
       "      <th>yhat_upper</th>\n",
       "    </tr>\n",
       "  </thead>\n",
       "  <tbody>\n",
       "    <tr>\n",
       "      <th>55</th>\n",
       "      <td>2023-07-31</td>\n",
       "      <td>1927.345510</td>\n",
       "      <td>1905.278484</td>\n",
       "      <td>1945.869749</td>\n",
       "    </tr>\n",
       "    <tr>\n",
       "      <th>56</th>\n",
       "      <td>2023-08-31</td>\n",
       "      <td>1949.031719</td>\n",
       "      <td>1930.132203</td>\n",
       "      <td>1967.386998</td>\n",
       "    </tr>\n",
       "    <tr>\n",
       "      <th>57</th>\n",
       "      <td>2023-09-30</td>\n",
       "      <td>1942.563442</td>\n",
       "      <td>1921.601201</td>\n",
       "      <td>1962.479600</td>\n",
       "    </tr>\n",
       "    <tr>\n",
       "      <th>58</th>\n",
       "      <td>2023-10-31</td>\n",
       "      <td>1923.852734</td>\n",
       "      <td>1902.279740</td>\n",
       "      <td>1944.845273</td>\n",
       "    </tr>\n",
       "    <tr>\n",
       "      <th>59</th>\n",
       "      <td>2023-11-30</td>\n",
       "      <td>1912.507050</td>\n",
       "      <td>1889.106871</td>\n",
       "      <td>1933.056519</td>\n",
       "    </tr>\n",
       "  </tbody>\n",
       "</table>\n",
       "</div>"
      ],
      "text/plain": [
       "           ds         yhat   yhat_lower   yhat_upper\n",
       "55 2023-07-31  1927.345510  1905.278484  1945.869749\n",
       "56 2023-08-31  1949.031719  1930.132203  1967.386998\n",
       "57 2023-09-30  1942.563442  1921.601201  1962.479600\n",
       "58 2023-10-31  1923.852734  1902.279740  1944.845273\n",
       "59 2023-11-30  1912.507050  1889.106871  1933.056519"
      ]
     },
     "execution_count": 99,
     "metadata": {},
     "output_type": "execute_result"
    }
   ],
   "source": [
    "forecast[[\"ds\",\"yhat\",\"yhat_lower\",\"yhat_upper\"]].tail()"
   ]
  },
  {
   "cell_type": "code",
   "execution_count": 100,
   "id": "148c21e0",
   "metadata": {},
   "outputs": [
    {
     "data": {
      "image/png": "[encoded data removed]",
      "text/plain": [
       "<Figure size 720x432 with 1 Axes>"
      ]
     },
     "metadata": {},
     "output_type": "display_data"
    }
   ],
   "source": [
    "# Plot the graph of this data to get an understanding of how well forecast looks\n",
    "li_model2.plot(forecast);\n",
    "plt.title(\"Average Methane emissions Actual Vs Predicted\")\n",
    "plt.show()\n"
   ]
  },
  {
   "cell_type": "code",
   "execution_count": 101,
   "id": "8bb2fff7",
   "metadata": {},
   "outputs": [
    {
     "name": "stdout",
     "output_type": "stream",
     "text": [
      "MAE: 22.191\n",
      "MSE: 724.641\n"
     ]
    }
   ],
   "source": [
    "from sklearn.metrics import mean_absolute_error, mean_squared_error, r2_score\n",
    "# calculate MAE between expected and predicted values for next 60 mont\n",
    "y_true = datanew['y'][:12].values\n",
    "y_pred = forecast['yhat'][:12].values\n",
    "mae = mean_absolute_error(y_true, y_pred)\n",
    "print('MAE: %.3f' % mae)\n",
    "mse = mean_squared_error(y_true, y_pred)\n",
    "print('MSE: %.3f' % mse)"
   ]
  },
  {
   "cell_type": "markdown",
   "id": "84e57b1a",
   "metadata": {},
   "source": [
    "# Actual Vs Predicted"
   ]
  },
  {
   "cell_type": "code",
   "execution_count": 102,
   "id": "b2c0af80",
   "metadata": {},
   "outputs": [
    {
     "data": {
      "image/png": "[encoded data removed]",
      "text/plain": [
       "<Figure size 1440x360 with 1 Axes>"
      ]
     },
     "metadata": {
      "needs_background": "light"
     },
     "output_type": "display_data"
    }
   ],
   "source": [
    "plt.figure(figsize=(20,5))\n",
    "# plot expected vs actual\n",
    "plt.plot(y_true, label='Actual')\n",
    "plt.plot(y_pred, label='Predicted')\n",
    "plt.title(\"Average Methane Emission - Actual Vs Predicted\")\n",
    "plt.grid(True)\n",
    "plt.legend()\n",
    "plt.show()"
   ]
  },
  {
   "cell_type": "markdown",
   "id": "5f9efaa7",
   "metadata": {},
   "source": [
    "### Using KNN Imputed Data"
   ]
  },
  {
   "cell_type": "code",
   "execution_count": 131,
   "id": "966547a4",
   "metadata": {},
   "outputs": [
    {
     "name": "stderr",
     "output_type": "stream",
     "text": [
      "INFO:fbprophet:Disabling weekly seasonality. Run prophet with weekly_seasonality=True to override this.\n",
      "INFO:fbprophet:Disabling daily seasonality. Run prophet with daily_seasonality=True to override this.\n"
     ]
    },
    {
     "data": {
      "text/plain": [
       "<fbprophet.forecaster.Prophet at 0x1bd742a8820>"
      ]
     },
     "execution_count": 131,
     "metadata": {},
     "output_type": "execute_result"
    }
   ],
   "source": [
    "model = Prophet()\n",
    "model.fit(means_df)"
   ]
  },
  {
   "cell_type": "code",
   "execution_count": 132,
   "id": "0d3602ea",
   "metadata": {},
   "outputs": [],
   "source": [
    "future = model.make_future_dataframe(periods= 24, freq='m')"
   ]
  },
  {
   "cell_type": "code",
   "execution_count": 133,
   "id": "1ee69aff",
   "metadata": {},
   "outputs": [
    {
     "data": {
      "text/html": [
       "<div>\n",
       "<style scoped>\n",
       "    .dataframe tbody tr th:only-of-type {\n",
       "        vertical-align: middle;\n",
       "    }\n",
       "\n",
       "    .dataframe tbody tr th {\n",
       "        vertical-align: top;\n",
       "    }\n",
       "\n",
       "    .dataframe thead th {\n",
       "        text-align: right;\n",
       "    }\n",
       "</style>\n",
       "<table border=\"1\" class=\"dataframe\">\n",
       "  <thead>\n",
       "    <tr style=\"text-align: right;\">\n",
       "      <th></th>\n",
       "      <th>ds</th>\n",
       "    </tr>\n",
       "  </thead>\n",
       "  <tbody>\n",
       "    <tr>\n",
       "      <th>48</th>\n",
       "      <td>2022-12-31</td>\n",
       "    </tr>\n",
       "    <tr>\n",
       "      <th>49</th>\n",
       "      <td>2023-01-31</td>\n",
       "    </tr>\n",
       "    <tr>\n",
       "      <th>50</th>\n",
       "      <td>2023-02-28</td>\n",
       "    </tr>\n",
       "    <tr>\n",
       "      <th>51</th>\n",
       "      <td>2023-03-31</td>\n",
       "    </tr>\n",
       "    <tr>\n",
       "      <th>52</th>\n",
       "      <td>2023-04-30</td>\n",
       "    </tr>\n",
       "    <tr>\n",
       "      <th>53</th>\n",
       "      <td>2023-05-31</td>\n",
       "    </tr>\n",
       "    <tr>\n",
       "      <th>54</th>\n",
       "      <td>2023-06-30</td>\n",
       "    </tr>\n",
       "    <tr>\n",
       "      <th>55</th>\n",
       "      <td>2023-07-31</td>\n",
       "    </tr>\n",
       "    <tr>\n",
       "      <th>56</th>\n",
       "      <td>2023-08-31</td>\n",
       "    </tr>\n",
       "    <tr>\n",
       "      <th>57</th>\n",
       "      <td>2023-09-30</td>\n",
       "    </tr>\n",
       "    <tr>\n",
       "      <th>58</th>\n",
       "      <td>2023-10-31</td>\n",
       "    </tr>\n",
       "    <tr>\n",
       "      <th>59</th>\n",
       "      <td>2023-11-30</td>\n",
       "    </tr>\n",
       "  </tbody>\n",
       "</table>\n",
       "</div>"
      ],
      "text/plain": [
       "           ds\n",
       "48 2022-12-31\n",
       "49 2023-01-31\n",
       "50 2023-02-28\n",
       "51 2023-03-31\n",
       "52 2023-04-30\n",
       "53 2023-05-31\n",
       "54 2023-06-30\n",
       "55 2023-07-31\n",
       "56 2023-08-31\n",
       "57 2023-09-30\n",
       "58 2023-10-31\n",
       "59 2023-11-30"
      ]
     },
     "execution_count": 133,
     "metadata": {},
     "output_type": "execute_result"
    }
   ],
   "source": [
    "future.tail(12)"
   ]
  },
  {
   "cell_type": "code",
   "execution_count": 134,
   "id": "27568874",
   "metadata": {},
   "outputs": [
    {
     "data": {
      "text/html": [
       "<div>\n",
       "<style scoped>\n",
       "    .dataframe tbody tr th:only-of-type {\n",
       "        vertical-align: middle;\n",
       "    }\n",
       "\n",
       "    .dataframe tbody tr th {\n",
       "        vertical-align: top;\n",
       "    }\n",
       "\n",
       "    .dataframe thead th {\n",
       "        text-align: right;\n",
       "    }\n",
       "</style>\n",
       "<table border=\"1\" class=\"dataframe\">\n",
       "  <thead>\n",
       "    <tr style=\"text-align: right;\">\n",
       "      <th></th>\n",
       "      <th>ds</th>\n",
       "      <th>trend</th>\n",
       "      <th>yhat_lower</th>\n",
       "      <th>yhat_upper</th>\n",
       "      <th>trend_lower</th>\n",
       "      <th>trend_upper</th>\n",
       "      <th>additive_terms</th>\n",
       "      <th>additive_terms_lower</th>\n",
       "      <th>additive_terms_upper</th>\n",
       "      <th>yearly</th>\n",
       "      <th>yearly_lower</th>\n",
       "      <th>yearly_upper</th>\n",
       "      <th>multiplicative_terms</th>\n",
       "      <th>multiplicative_terms_lower</th>\n",
       "      <th>multiplicative_terms_upper</th>\n",
       "      <th>yhat</th>\n",
       "    </tr>\n",
       "  </thead>\n",
       "  <tbody>\n",
       "    <tr>\n",
       "      <th>55</th>\n",
       "      <td>2023-07-31</td>\n",
       "      <td>1967.638324</td>\n",
       "      <td>1773.283717</td>\n",
       "      <td>2168.729785</td>\n",
       "      <td>1771.745478</td>\n",
       "      <td>2169.041387</td>\n",
       "      <td>-2.792789</td>\n",
       "      <td>-2.792789</td>\n",
       "      <td>-2.792789</td>\n",
       "      <td>-2.792789</td>\n",
       "      <td>-2.792789</td>\n",
       "      <td>-2.792789</td>\n",
       "      <td>0.0</td>\n",
       "      <td>0.0</td>\n",
       "      <td>0.0</td>\n",
       "      <td>1964.845535</td>\n",
       "    </tr>\n",
       "    <tr>\n",
       "      <th>56</th>\n",
       "      <td>2023-08-31</td>\n",
       "      <td>1970.203911</td>\n",
       "      <td>1764.076612</td>\n",
       "      <td>2183.848122</td>\n",
       "      <td>1761.402204</td>\n",
       "      <td>2183.976329</td>\n",
       "      <td>-1.024588</td>\n",
       "      <td>-1.024588</td>\n",
       "      <td>-1.024588</td>\n",
       "      <td>-1.024588</td>\n",
       "      <td>-1.024588</td>\n",
       "      <td>-1.024588</td>\n",
       "      <td>0.0</td>\n",
       "      <td>0.0</td>\n",
       "      <td>0.0</td>\n",
       "      <td>1969.179323</td>\n",
       "    </tr>\n",
       "    <tr>\n",
       "      <th>57</th>\n",
       "      <td>2023-09-30</td>\n",
       "      <td>1972.686736</td>\n",
       "      <td>1766.413165</td>\n",
       "      <td>2220.369880</td>\n",
       "      <td>1751.930212</td>\n",
       "      <td>2203.645078</td>\n",
       "      <td>16.011505</td>\n",
       "      <td>16.011505</td>\n",
       "      <td>16.011505</td>\n",
       "      <td>16.011505</td>\n",
       "      <td>16.011505</td>\n",
       "      <td>16.011505</td>\n",
       "      <td>0.0</td>\n",
       "      <td>0.0</td>\n",
       "      <td>0.0</td>\n",
       "      <td>1988.698241</td>\n",
       "    </tr>\n",
       "    <tr>\n",
       "      <th>58</th>\n",
       "      <td>2023-10-31</td>\n",
       "      <td>1975.252323</td>\n",
       "      <td>1739.141482</td>\n",
       "      <td>2224.832880</td>\n",
       "      <td>1736.389483</td>\n",
       "      <td>2218.234980</td>\n",
       "      <td>2.131923</td>\n",
       "      <td>2.131923</td>\n",
       "      <td>2.131923</td>\n",
       "      <td>2.131923</td>\n",
       "      <td>2.131923</td>\n",
       "      <td>2.131923</td>\n",
       "      <td>0.0</td>\n",
       "      <td>0.0</td>\n",
       "      <td>0.0</td>\n",
       "      <td>1977.384246</td>\n",
       "    </tr>\n",
       "    <tr>\n",
       "      <th>59</th>\n",
       "      <td>2023-11-30</td>\n",
       "      <td>1977.735148</td>\n",
       "      <td>1711.142205</td>\n",
       "      <td>2237.455365</td>\n",
       "      <td>1720.308971</td>\n",
       "      <td>2238.440052</td>\n",
       "      <td>-3.613362</td>\n",
       "      <td>-3.613362</td>\n",
       "      <td>-3.613362</td>\n",
       "      <td>-3.613362</td>\n",
       "      <td>-3.613362</td>\n",
       "      <td>-3.613362</td>\n",
       "      <td>0.0</td>\n",
       "      <td>0.0</td>\n",
       "      <td>0.0</td>\n",
       "      <td>1974.121786</td>\n",
       "    </tr>\n",
       "  </tbody>\n",
       "</table>\n",
       "</div>"
      ],
      "text/plain": [
       "           ds        trend   yhat_lower   yhat_upper  trend_lower  \\\n",
       "55 2023-07-31  1967.638324  1773.283717  2168.729785  1771.745478   \n",
       "56 2023-08-31  1970.203911  1764.076612  2183.848122  1761.402204   \n",
       "57 2023-09-30  1972.686736  1766.413165  2220.369880  1751.930212   \n",
       "58 2023-10-31  1975.252323  1739.141482  2224.832880  1736.389483   \n",
       "59 2023-11-30  1977.735148  1711.142205  2237.455365  1720.308971   \n",
       "\n",
       "    trend_upper  additive_terms  additive_terms_lower  additive_terms_upper  \\\n",
       "55  2169.041387       -2.792789             -2.792789             -2.792789   \n",
       "56  2183.976329       -1.024588             -1.024588             -1.024588   \n",
       "57  2203.645078       16.011505             16.011505             16.011505   \n",
       "58  2218.234980        2.131923              2.131923              2.131923   \n",
       "59  2238.440052       -3.613362             -3.613362             -3.613362   \n",
       "\n",
       "       yearly  yearly_lower  yearly_upper  multiplicative_terms  \\\n",
       "55  -2.792789     -2.792789     -2.792789                   0.0   \n",
       "56  -1.024588     -1.024588     -1.024588                   0.0   \n",
       "57  16.011505     16.011505     16.011505                   0.0   \n",
       "58   2.131923      2.131923      2.131923                   0.0   \n",
       "59  -3.613362     -3.613362     -3.613362                   0.0   \n",
       "\n",
       "    multiplicative_terms_lower  multiplicative_terms_upper         yhat  \n",
       "55                         0.0                         0.0  1964.845535  \n",
       "56                         0.0                         0.0  1969.179323  \n",
       "57                         0.0                         0.0  1988.698241  \n",
       "58                         0.0                         0.0  1977.384246  \n",
       "59                         0.0                         0.0  1974.121786  "
      ]
     },
     "execution_count": 134,
     "metadata": {},
     "output_type": "execute_result"
    }
   ],
   "source": [
    "forecast = model.predict(future)\n",
    "forecast.tail()"
   ]
  },
  {
   "cell_type": "code",
   "execution_count": 135,
   "id": "81c162bb",
   "metadata": {},
   "outputs": [
    {
     "data": {
      "text/html": [
       "<div>\n",
       "<style scoped>\n",
       "    .dataframe tbody tr th:only-of-type {\n",
       "        vertical-align: middle;\n",
       "    }\n",
       "\n",
       "    .dataframe tbody tr th {\n",
       "        vertical-align: top;\n",
       "    }\n",
       "\n",
       "    .dataframe thead th {\n",
       "        text-align: right;\n",
       "    }\n",
       "</style>\n",
       "<table border=\"1\" class=\"dataframe\">\n",
       "  <thead>\n",
       "    <tr style=\"text-align: right;\">\n",
       "      <th></th>\n",
       "      <th>ds</th>\n",
       "      <th>yhat</th>\n",
       "      <th>yhat_lower</th>\n",
       "      <th>yhat_upper</th>\n",
       "    </tr>\n",
       "  </thead>\n",
       "  <tbody>\n",
       "    <tr>\n",
       "      <th>55</th>\n",
       "      <td>2023-07-31</td>\n",
       "      <td>1964.845535</td>\n",
       "      <td>1773.283717</td>\n",
       "      <td>2168.729785</td>\n",
       "    </tr>\n",
       "    <tr>\n",
       "      <th>56</th>\n",
       "      <td>2023-08-31</td>\n",
       "      <td>1969.179323</td>\n",
       "      <td>1764.076612</td>\n",
       "      <td>2183.848122</td>\n",
       "    </tr>\n",
       "    <tr>\n",
       "      <th>57</th>\n",
       "      <td>2023-09-30</td>\n",
       "      <td>1988.698241</td>\n",
       "      <td>1766.413165</td>\n",
       "      <td>2220.369880</td>\n",
       "    </tr>\n",
       "    <tr>\n",
       "      <th>58</th>\n",
       "      <td>2023-10-31</td>\n",
       "      <td>1977.384246</td>\n",
       "      <td>1739.141482</td>\n",
       "      <td>2224.832880</td>\n",
       "    </tr>\n",
       "    <tr>\n",
       "      <th>59</th>\n",
       "      <td>2023-11-30</td>\n",
       "      <td>1974.121786</td>\n",
       "      <td>1711.142205</td>\n",
       "      <td>2237.455365</td>\n",
       "    </tr>\n",
       "  </tbody>\n",
       "</table>\n",
       "</div>"
      ],
      "text/plain": [
       "           ds         yhat   yhat_lower   yhat_upper\n",
       "55 2023-07-31  1964.845535  1773.283717  2168.729785\n",
       "56 2023-08-31  1969.179323  1764.076612  2183.848122\n",
       "57 2023-09-30  1988.698241  1766.413165  2220.369880\n",
       "58 2023-10-31  1977.384246  1739.141482  2224.832880\n",
       "59 2023-11-30  1974.121786  1711.142205  2237.455365"
      ]
     },
     "execution_count": 135,
     "metadata": {},
     "output_type": "execute_result"
    }
   ],
   "source": [
    "forecast[[\"ds\",\"yhat\",\"yhat_lower\",\"yhat_upper\"]].tail()"
   ]
  },
  {
   "cell_type": "code",
   "execution_count": 136,
   "id": "0dbca0a3",
   "metadata": {},
   "outputs": [
    {
     "data": {
      "image/png": "[encoded data removed]",
      "text/plain": [
       "<Figure size 720x432 with 1 Axes>"
      ]
     },
     "metadata": {},
     "output_type": "display_data"
    }
   ],
   "source": [
    "# Plot the graph of this data to get an understanding of how well forecast looks\n",
    "model.plot(forecast);\n",
    "plt.title(\"Average Methane emissions Actual Vs Predicted\")\n",
    "plt.show()"
   ]
  },
  {
   "cell_type": "markdown",
   "id": "1985c8f4",
   "metadata": {},
   "source": [
    "Mean Absolute Error (MAE) measures the average magnitude of the errors in a set of predictions, without considering their direction. It’s the average over the test sample of the absolute differences between prediction and actual observation where all individual differences have equal weight"
   ]
  },
  {
   "cell_type": "code",
   "execution_count": 109,
   "id": "424c2d9c",
   "metadata": {},
   "outputs": [
    {
     "name": "stdout",
     "output_type": "stream",
     "text": [
      "MAE: 20.523\n"
     ]
    }
   ],
   "source": [
    "from sklearn.metrics import mean_absolute_error, mean_squared_error, r2_score\n",
    "# calculate MAE between expected and predicted values for next 60 mont\n",
    "y_true = datanew['y'][:12].values\n",
    "y_pred = forecast['yhat'][:12].values\n",
    "mae = mean_absolute_error(y_true, y_pred)\n",
    "print('MAE: %.3f' % mae)"
   ]
  },
  {
   "cell_type": "code",
   "execution_count": 137,
   "id": "359009a3",
   "metadata": {},
   "outputs": [
    {
     "data": {
      "image/png": "[encoded data removed]",
      "text/plain": [
       "<Figure size 1440x360 with 1 Axes>"
      ]
     },
     "metadata": {
      "needs_background": "light"
     },
     "output_type": "display_data"
    }
   ],
   "source": [
    "plt.figure(figsize=(20,5))\n",
    "# plot expected vs actual\n",
    "plt.plot(y_true, label='Actual')\n",
    "plt.plot(y_pred, label='Predicted')\n",
    "plt.title(\"Average Methane Emission - Actual Vs Predicted\")\n",
    "plt.grid(True)\n",
    "plt.legend()\n",
    "plt.show()"
   ]
  },
  {
   "cell_type": "markdown",
   "id": "4a2bc7ba",
   "metadata": {},
   "source": [
    "## Cross Validation"
   ]
  },
  {
   "cell_type": "code",
   "execution_count": 113,
   "id": "8def3593",
   "metadata": {},
   "outputs": [],
   "source": [
    "from fbprophet.diagnostics import cross_validation"
   ]
  },
  {
   "cell_type": "code",
   "execution_count": 114,
   "id": "47a9d766",
   "metadata": {},
   "outputs": [
    {
     "name": "stderr",
     "output_type": "stream",
     "text": [
      "INFO:fbprophet:Making 2 forecasts with cutoffs between 2020-06-04 00:00:00 and 2020-12-01 00:00:00\n"
     ]
    },
    {
     "data": {
      "application/vnd.jupyter.widget-view+json": {
       "model_id": "2ef0c076033548d6a0870fc5e1f8c29c",
       "version_major": 2,
       "version_minor": 0
      },
      "text/plain": [
       "  0%|          | 0/2 [00:00<?, ?it/s]"
      ]
     },
     "metadata": {},
     "output_type": "display_data"
    }
   ],
   "source": [
    "df_cv = cross_validation(model, initial='500 days', period='180 days', horizon = '365 days')"
   ]
  },
  {
   "cell_type": "code",
   "execution_count": 115,
   "id": "a90c0c16",
   "metadata": {},
   "outputs": [
    {
     "data": {
      "text/html": [
       "<div>\n",
       "<style scoped>\n",
       "    .dataframe tbody tr th:only-of-type {\n",
       "        vertical-align: middle;\n",
       "    }\n",
       "\n",
       "    .dataframe tbody tr th {\n",
       "        vertical-align: top;\n",
       "    }\n",
       "\n",
       "    .dataframe thead th {\n",
       "        text-align: right;\n",
       "    }\n",
       "</style>\n",
       "<table border=\"1\" class=\"dataframe\">\n",
       "  <thead>\n",
       "    <tr style=\"text-align: right;\">\n",
       "      <th></th>\n",
       "      <th>ds</th>\n",
       "      <th>yhat</th>\n",
       "      <th>yhat_lower</th>\n",
       "      <th>yhat_upper</th>\n",
       "      <th>y</th>\n",
       "      <th>cutoff</th>\n",
       "    </tr>\n",
       "  </thead>\n",
       "  <tbody>\n",
       "    <tr>\n",
       "      <th>0</th>\n",
       "      <td>2020-07-01</td>\n",
       "      <td>1898.976587</td>\n",
       "      <td>1881.426006</td>\n",
       "      <td>1916.638822</td>\n",
       "      <td>1893.621401</td>\n",
       "      <td>2020-06-04</td>\n",
       "    </tr>\n",
       "    <tr>\n",
       "      <th>1</th>\n",
       "      <td>2020-07-01</td>\n",
       "      <td>1898.976587</td>\n",
       "      <td>1882.154852</td>\n",
       "      <td>1917.372352</td>\n",
       "      <td>1893.621401</td>\n",
       "      <td>2020-06-04</td>\n",
       "    </tr>\n",
       "    <tr>\n",
       "      <th>2</th>\n",
       "      <td>2020-07-01</td>\n",
       "      <td>1898.976587</td>\n",
       "      <td>1881.416819</td>\n",
       "      <td>1916.382042</td>\n",
       "      <td>1893.621401</td>\n",
       "      <td>2020-06-04</td>\n",
       "    </tr>\n",
       "    <tr>\n",
       "      <th>3</th>\n",
       "      <td>2020-07-01</td>\n",
       "      <td>1898.976587</td>\n",
       "      <td>1882.234026</td>\n",
       "      <td>1916.106238</td>\n",
       "      <td>1893.621401</td>\n",
       "      <td>2020-06-04</td>\n",
       "    </tr>\n",
       "    <tr>\n",
       "      <th>4</th>\n",
       "      <td>2020-07-01</td>\n",
       "      <td>1898.976587</td>\n",
       "      <td>1882.073235</td>\n",
       "      <td>1916.037479</td>\n",
       "      <td>1893.621401</td>\n",
       "      <td>2020-06-04</td>\n",
       "    </tr>\n",
       "  </tbody>\n",
       "</table>\n",
       "</div>"
      ],
      "text/plain": [
       "          ds         yhat   yhat_lower   yhat_upper            y     cutoff\n",
       "0 2020-07-01  1898.976587  1881.426006  1916.638822  1893.621401 2020-06-04\n",
       "1 2020-07-01  1898.976587  1882.154852  1917.372352  1893.621401 2020-06-04\n",
       "2 2020-07-01  1898.976587  1881.416819  1916.382042  1893.621401 2020-06-04\n",
       "3 2020-07-01  1898.976587  1882.234026  1916.106238  1893.621401 2020-06-04\n",
       "4 2020-07-01  1898.976587  1882.073235  1916.037479  1893.621401 2020-06-04"
      ]
     },
     "execution_count": 115,
     "metadata": {},
     "output_type": "execute_result"
    }
   ],
   "source": [
    "df_cv.head()"
   ]
  },
  {
   "cell_type": "code",
   "execution_count": 117,
   "id": "e63ae76a",
   "metadata": {},
   "outputs": [
    {
     "data": {
      "text/html": [
       "<div>\n",
       "<style scoped>\n",
       "    .dataframe tbody tr th:only-of-type {\n",
       "        vertical-align: middle;\n",
       "    }\n",
       "\n",
       "    .dataframe tbody tr th {\n",
       "        vertical-align: top;\n",
       "    }\n",
       "\n",
       "    .dataframe thead th {\n",
       "        text-align: right;\n",
       "    }\n",
       "</style>\n",
       "<table border=\"1\" class=\"dataframe\">\n",
       "  <thead>\n",
       "    <tr style=\"text-align: right;\">\n",
       "      <th></th>\n",
       "      <th>horizon</th>\n",
       "      <th>mse</th>\n",
       "      <th>rmse</th>\n",
       "      <th>mae</th>\n",
       "      <th>mape</th>\n",
       "      <th>mdape</th>\n",
       "      <th>coverage</th>\n",
       "    </tr>\n",
       "  </thead>\n",
       "  <tbody>\n",
       "    <tr>\n",
       "      <th>0</th>\n",
       "      <td>58 days</td>\n",
       "      <td>174.409963</td>\n",
       "      <td>13.206436</td>\n",
       "      <td>7.811054</td>\n",
       "      <td>0.004077</td>\n",
       "      <td>0.001795</td>\n",
       "      <td>0.869281</td>\n",
       "    </tr>\n",
       "    <tr>\n",
       "      <th>1</th>\n",
       "      <td>62 days</td>\n",
       "      <td>314.149566</td>\n",
       "      <td>17.724265</td>\n",
       "      <td>12.861199</td>\n",
       "      <td>0.006728</td>\n",
       "      <td>0.004153</td>\n",
       "      <td>0.641748</td>\n",
       "    </tr>\n",
       "    <tr>\n",
       "      <th>2</th>\n",
       "      <td>89 days</td>\n",
       "      <td>338.453554</td>\n",
       "      <td>18.397107</td>\n",
       "      <td>15.032044</td>\n",
       "      <td>0.007844</td>\n",
       "      <td>0.006846</td>\n",
       "      <td>0.614379</td>\n",
       "    </tr>\n",
       "    <tr>\n",
       "      <th>3</th>\n",
       "      <td>90 days</td>\n",
       "      <td>390.438881</td>\n",
       "      <td>19.759526</td>\n",
       "      <td>14.189874</td>\n",
       "      <td>0.007369</td>\n",
       "      <td>0.005491</td>\n",
       "      <td>0.710069</td>\n",
       "    </tr>\n",
       "    <tr>\n",
       "      <th>4</th>\n",
       "      <td>119 days</td>\n",
       "      <td>238.967076</td>\n",
       "      <td>15.458560</td>\n",
       "      <td>7.543413</td>\n",
       "      <td>0.003907</td>\n",
       "      <td>0.001260</td>\n",
       "      <td>0.877859</td>\n",
       "    </tr>\n",
       "  </tbody>\n",
       "</table>\n",
       "</div>"
      ],
      "text/plain": [
       "   horizon         mse       rmse        mae      mape     mdape  coverage\n",
       "0  58 days  174.409963  13.206436   7.811054  0.004077  0.001795  0.869281\n",
       "1  62 days  314.149566  17.724265  12.861199  0.006728  0.004153  0.641748\n",
       "2  89 days  338.453554  18.397107  15.032044  0.007844  0.006846  0.614379\n",
       "3  90 days  390.438881  19.759526  14.189874  0.007369  0.005491  0.710069\n",
       "4 119 days  238.967076  15.458560   7.543413  0.003907  0.001260  0.877859"
      ]
     },
     "execution_count": 117,
     "metadata": {},
     "output_type": "execute_result"
    }
   ],
   "source": [
    "from fbprophet.diagnostics import performance_metrics\n",
    "df_p = performance_metrics(df_cv)\n",
    "df_p.head()"
   ]
  },
  {
   "cell_type": "code",
   "execution_count": 119,
   "id": "a6df777e",
   "metadata": {},
   "outputs": [
    {
     "data": {
      "image/png": "[encoded data removed]",
      "text/plain": [
       "<Figure size 720x432 with 1 Axes>"
      ]
     },
     "metadata": {},
     "output_type": "display_data"
    }
   ],
   "source": [
    "from fbprophet.plot import plot_cross_validation_metric\n",
    "fig = plot_cross_validation_metric(df_cv, metric='mae')"
   ]
  },
  {
   "cell_type": "markdown",
   "id": "1ad24494",
   "metadata": {},
   "source": [
    "### Setting cutoff points"
   ]
  },
  {
   "cell_type": "code",
   "execution_count": 120,
   "id": "975fa2b6",
   "metadata": {},
   "outputs": [
    {
     "data": {
      "application/vnd.jupyter.widget-view+json": {
       "model_id": "2984a7f4d4d64768aa7963acafb22076",
       "version_major": 2,
       "version_minor": 0
      },
      "text/plain": [
       "  0%|          | 0/1 [00:00<?, ?it/s]"
      ]
     },
     "metadata": {},
     "output_type": "display_data"
    }
   ],
   "source": [
    "cutoffs = pd.to_datetime(['2020-06-04'])\n",
    "df_cv2 = cross_validation(model, cutoffs=cutoffs, horizon='365 days')"
   ]
  },
  {
   "cell_type": "code",
   "execution_count": 121,
   "id": "8d69edb6",
   "metadata": {},
   "outputs": [
    {
     "data": {
      "text/html": [
       "<div>\n",
       "<style scoped>\n",
       "    .dataframe tbody tr th:only-of-type {\n",
       "        vertical-align: middle;\n",
       "    }\n",
       "\n",
       "    .dataframe tbody tr th {\n",
       "        vertical-align: top;\n",
       "    }\n",
       "\n",
       "    .dataframe thead th {\n",
       "        text-align: right;\n",
       "    }\n",
       "</style>\n",
       "<table border=\"1\" class=\"dataframe\">\n",
       "  <thead>\n",
       "    <tr style=\"text-align: right;\">\n",
       "      <th></th>\n",
       "      <th>ds</th>\n",
       "      <th>yhat</th>\n",
       "      <th>yhat_lower</th>\n",
       "      <th>yhat_upper</th>\n",
       "      <th>y</th>\n",
       "      <th>cutoff</th>\n",
       "    </tr>\n",
       "  </thead>\n",
       "  <tbody>\n",
       "    <tr>\n",
       "      <th>0</th>\n",
       "      <td>2020-07-01</td>\n",
       "      <td>1898.976587</td>\n",
       "      <td>1881.426006</td>\n",
       "      <td>1916.638822</td>\n",
       "      <td>1893.621401</td>\n",
       "      <td>2020-06-04</td>\n",
       "    </tr>\n",
       "    <tr>\n",
       "      <th>1</th>\n",
       "      <td>2020-07-01</td>\n",
       "      <td>1898.976587</td>\n",
       "      <td>1882.154852</td>\n",
       "      <td>1917.372352</td>\n",
       "      <td>1893.621401</td>\n",
       "      <td>2020-06-04</td>\n",
       "    </tr>\n",
       "    <tr>\n",
       "      <th>2</th>\n",
       "      <td>2020-07-01</td>\n",
       "      <td>1898.976587</td>\n",
       "      <td>1881.416819</td>\n",
       "      <td>1916.382042</td>\n",
       "      <td>1893.621401</td>\n",
       "      <td>2020-06-04</td>\n",
       "    </tr>\n",
       "    <tr>\n",
       "      <th>3</th>\n",
       "      <td>2020-07-01</td>\n",
       "      <td>1898.976587</td>\n",
       "      <td>1882.234026</td>\n",
       "      <td>1916.106238</td>\n",
       "      <td>1893.621401</td>\n",
       "      <td>2020-06-04</td>\n",
       "    </tr>\n",
       "    <tr>\n",
       "      <th>4</th>\n",
       "      <td>2020-07-01</td>\n",
       "      <td>1898.976587</td>\n",
       "      <td>1882.073235</td>\n",
       "      <td>1916.037479</td>\n",
       "      <td>1893.621401</td>\n",
       "      <td>2020-06-04</td>\n",
       "    </tr>\n",
       "  </tbody>\n",
       "</table>\n",
       "</div>"
      ],
      "text/plain": [
       "          ds         yhat   yhat_lower   yhat_upper            y     cutoff\n",
       "0 2020-07-01  1898.976587  1881.426006  1916.638822  1893.621401 2020-06-04\n",
       "1 2020-07-01  1898.976587  1882.154852  1917.372352  1893.621401 2020-06-04\n",
       "2 2020-07-01  1898.976587  1881.416819  1916.382042  1893.621401 2020-06-04\n",
       "3 2020-07-01  1898.976587  1882.234026  1916.106238  1893.621401 2020-06-04\n",
       "4 2020-07-01  1898.976587  1882.073235  1916.037479  1893.621401 2020-06-04"
      ]
     },
     "execution_count": 121,
     "metadata": {},
     "output_type": "execute_result"
    }
   ],
   "source": [
    "df_cv.head()"
   ]
  },
  {
   "cell_type": "code",
   "execution_count": 122,
   "id": "f9fc8b07",
   "metadata": {},
   "outputs": [
    {
     "data": {
      "text/html": [
       "<div>\n",
       "<style scoped>\n",
       "    .dataframe tbody tr th:only-of-type {\n",
       "        vertical-align: middle;\n",
       "    }\n",
       "\n",
       "    .dataframe tbody tr th {\n",
       "        vertical-align: top;\n",
       "    }\n",
       "\n",
       "    .dataframe thead th {\n",
       "        text-align: right;\n",
       "    }\n",
       "</style>\n",
       "<table border=\"1\" class=\"dataframe\">\n",
       "  <thead>\n",
       "    <tr style=\"text-align: right;\">\n",
       "      <th></th>\n",
       "      <th>horizon</th>\n",
       "      <th>mse</th>\n",
       "      <th>rmse</th>\n",
       "      <th>mae</th>\n",
       "      <th>mape</th>\n",
       "      <th>mdape</th>\n",
       "      <th>coverage</th>\n",
       "    </tr>\n",
       "  </thead>\n",
       "  <tbody>\n",
       "    <tr>\n",
       "      <th>0</th>\n",
       "      <td>58 days</td>\n",
       "      <td>174.409963</td>\n",
       "      <td>13.206436</td>\n",
       "      <td>7.811054</td>\n",
       "      <td>0.004077</td>\n",
       "      <td>0.001795</td>\n",
       "      <td>0.869281</td>\n",
       "    </tr>\n",
       "    <tr>\n",
       "      <th>1</th>\n",
       "      <td>62 days</td>\n",
       "      <td>314.149566</td>\n",
       "      <td>17.724265</td>\n",
       "      <td>12.861199</td>\n",
       "      <td>0.006728</td>\n",
       "      <td>0.004153</td>\n",
       "      <td>0.641748</td>\n",
       "    </tr>\n",
       "    <tr>\n",
       "      <th>2</th>\n",
       "      <td>89 days</td>\n",
       "      <td>338.453554</td>\n",
       "      <td>18.397107</td>\n",
       "      <td>15.032044</td>\n",
       "      <td>0.007844</td>\n",
       "      <td>0.006846</td>\n",
       "      <td>0.614379</td>\n",
       "    </tr>\n",
       "    <tr>\n",
       "      <th>3</th>\n",
       "      <td>90 days</td>\n",
       "      <td>390.438881</td>\n",
       "      <td>19.759526</td>\n",
       "      <td>14.189874</td>\n",
       "      <td>0.007369</td>\n",
       "      <td>0.005491</td>\n",
       "      <td>0.710069</td>\n",
       "    </tr>\n",
       "    <tr>\n",
       "      <th>4</th>\n",
       "      <td>119 days</td>\n",
       "      <td>238.967076</td>\n",
       "      <td>15.458560</td>\n",
       "      <td>7.543413</td>\n",
       "      <td>0.003907</td>\n",
       "      <td>0.001260</td>\n",
       "      <td>0.877859</td>\n",
       "    </tr>\n",
       "  </tbody>\n",
       "</table>\n",
       "</div>"
      ],
      "text/plain": [
       "   horizon         mse       rmse        mae      mape     mdape  coverage\n",
       "0  58 days  174.409963  13.206436   7.811054  0.004077  0.001795  0.869281\n",
       "1  62 days  314.149566  17.724265  12.861199  0.006728  0.004153  0.641748\n",
       "2  89 days  338.453554  18.397107  15.032044  0.007844  0.006846  0.614379\n",
       "3  90 days  390.438881  19.759526  14.189874  0.007369  0.005491  0.710069\n",
       "4 119 days  238.967076  15.458560   7.543413  0.003907  0.001260  0.877859"
      ]
     },
     "execution_count": 122,
     "metadata": {},
     "output_type": "execute_result"
    }
   ],
   "source": [
    "df_p = performance_metrics(df_cv)\n",
    "df_p.head()"
   ]
  },
  {
   "cell_type": "code",
   "execution_count": 124,
   "id": "92732eb4",
   "metadata": {},
   "outputs": [
    {
     "data": {
      "image/png": "[encoded data removed]",
      "text/plain": [
       "<Figure size 720x432 with 1 Axes>"
      ]
     },
     "metadata": {},
     "output_type": "display_data"
    }
   ],
   "source": [
    "from fbprophet.plot import plot_cross_validation_metric\n",
    "fig = plot_cross_validation_metric(df_cv, metric='mae')"
   ]
  },
  {
   "cell_type": "markdown",
   "id": "d33eb8ae",
   "metadata": {},
   "source": [
    "### Assist in Hyperparameter tuning for getting best parameters of the model"
   ]
  },
  {
   "cell_type": "code",
   "execution_count": 125,
   "id": "dd4fe9f8",
   "metadata": {},
   "outputs": [
    {
     "name": "stderr",
     "output_type": "stream",
     "text": [
      "INFO:fbprophet:Disabling weekly seasonality. Run prophet with weekly_seasonality=True to override this.\n",
      "INFO:fbprophet:Disabling daily seasonality. Run prophet with daily_seasonality=True to override this.\n",
      "INFO:fbprophet:Applying in parallel with <concurrent.futures.process.ProcessPoolExecutor object at 0x000001BD74532400>\n",
      "INFO:fbprophet:Disabling weekly seasonality. Run prophet with weekly_seasonality=True to override this.\n",
      "INFO:fbprophet:Disabling daily seasonality. Run prophet with daily_seasonality=True to override this.\n",
      "INFO:fbprophet:Applying in parallel with <concurrent.futures.process.ProcessPoolExecutor object at 0x000001BD7500CD30>\n",
      "INFO:fbprophet:Disabling weekly seasonality. Run prophet with weekly_seasonality=True to override this.\n",
      "INFO:fbprophet:Disabling daily seasonality. Run prophet with daily_seasonality=True to override this.\n",
      "INFO:fbprophet:Applying in parallel with <concurrent.futures.process.ProcessPoolExecutor object at 0x000001BD743DC970>\n",
      "INFO:fbprophet:Disabling weekly seasonality. Run prophet with weekly_seasonality=True to override this.\n",
      "INFO:fbprophet:Disabling daily seasonality. Run prophet with daily_seasonality=True to override this.\n",
      "INFO:fbprophet:Applying in parallel with <concurrent.futures.process.ProcessPoolExecutor object at 0x000001BD7469D640>\n",
      "INFO:fbprophet:Disabling weekly seasonality. Run prophet with weekly_seasonality=True to override this.\n",
      "INFO:fbprophet:Disabling daily seasonality. Run prophet with daily_seasonality=True to override this.\n",
      "INFO:fbprophet:Applying in parallel with <concurrent.futures.process.ProcessPoolExecutor object at 0x000001BD7445C7C0>\n",
      "INFO:fbprophet:Disabling weekly seasonality. Run prophet with weekly_seasonality=True to override this.\n",
      "INFO:fbprophet:Disabling daily seasonality. Run prophet with daily_seasonality=True to override this.\n",
      "INFO:fbprophet:Applying in parallel with <concurrent.futures.process.ProcessPoolExecutor object at 0x000001BD79354370>\n",
      "INFO:fbprophet:Disabling weekly seasonality. Run prophet with weekly_seasonality=True to override this.\n",
      "INFO:fbprophet:Disabling daily seasonality. Run prophet with daily_seasonality=True to override this.\n",
      "INFO:fbprophet:Applying in parallel with <concurrent.futures.process.ProcessPoolExecutor object at 0x000001BD743DC9D0>\n",
      "INFO:fbprophet:Disabling weekly seasonality. Run prophet with weekly_seasonality=True to override this.\n",
      "INFO:fbprophet:Disabling daily seasonality. Run prophet with daily_seasonality=True to override this.\n",
      "INFO:fbprophet:Applying in parallel with <concurrent.futures.process.ProcessPoolExecutor object at 0x000001BD74532910>\n",
      "INFO:fbprophet:Disabling weekly seasonality. Run prophet with weekly_seasonality=True to override this.\n",
      "INFO:fbprophet:Disabling daily seasonality. Run prophet with daily_seasonality=True to override this.\n",
      "INFO:fbprophet:Applying in parallel with <concurrent.futures.process.ProcessPoolExecutor object at 0x000001BD7500CD30>\n",
      "INFO:fbprophet:Disabling weekly seasonality. Run prophet with weekly_seasonality=True to override this.\n",
      "INFO:fbprophet:Disabling daily seasonality. Run prophet with daily_seasonality=True to override this.\n",
      "INFO:fbprophet:Applying in parallel with <concurrent.futures.process.ProcessPoolExecutor object at 0x000001BD743DC9D0>\n",
      "INFO:fbprophet:Disabling weekly seasonality. Run prophet with weekly_seasonality=True to override this.\n",
      "INFO:fbprophet:Disabling daily seasonality. Run prophet with daily_seasonality=True to override this.\n",
      "INFO:fbprophet:Applying in parallel with <concurrent.futures.process.ProcessPoolExecutor object at 0x000001BD743DCB80>\n",
      "INFO:fbprophet:Disabling weekly seasonality. Run prophet with weekly_seasonality=True to override this.\n",
      "INFO:fbprophet:Disabling daily seasonality. Run prophet with daily_seasonality=True to override this.\n",
      "INFO:fbprophet:Applying in parallel with <concurrent.futures.process.ProcessPoolExecutor object at 0x000001BD75C83070>\n",
      "INFO:fbprophet:Disabling weekly seasonality. Run prophet with weekly_seasonality=True to override this.\n",
      "INFO:fbprophet:Disabling daily seasonality. Run prophet with daily_seasonality=True to override this.\n",
      "INFO:fbprophet:Applying in parallel with <concurrent.futures.process.ProcessPoolExecutor object at 0x000001BD743980A0>\n",
      "INFO:fbprophet:Disabling weekly seasonality. Run prophet with weekly_seasonality=True to override this.\n",
      "INFO:fbprophet:Disabling daily seasonality. Run prophet with daily_seasonality=True to override this.\n",
      "INFO:fbprophet:Applying in parallel with <concurrent.futures.process.ProcessPoolExecutor object at 0x000001BD744CA460>\n",
      "INFO:fbprophet:Disabling weekly seasonality. Run prophet with weekly_seasonality=True to override this.\n",
      "INFO:fbprophet:Disabling daily seasonality. Run prophet with daily_seasonality=True to override this.\n",
      "INFO:fbprophet:Applying in parallel with <concurrent.futures.process.ProcessPoolExecutor object at 0x000001BD701ACB80>\n",
      "INFO:fbprophet:Disabling weekly seasonality. Run prophet with weekly_seasonality=True to override this.\n",
      "INFO:fbprophet:Disabling daily seasonality. Run prophet with daily_seasonality=True to override this.\n",
      "INFO:fbprophet:Applying in parallel with <concurrent.futures.process.ProcessPoolExecutor object at 0x000001BD793420A0>\n"
     ]
    },
    {
     "name": "stdout",
     "output_type": "stream",
     "text": [
      "    changepoint_prior_scale  seasonality_prior_scale       mae\n",
      "0                     0.001                     0.01  2.466557\n",
      "1                     0.001                     0.10  4.349630\n",
      "2                     0.001                     1.00  2.444919\n",
      "3                     0.001                    10.00  2.686623\n",
      "4                     0.010                     0.01  4.355303\n",
      "5                     0.010                     0.10  2.748278\n",
      "6                     0.010                     1.00  1.676000\n",
      "7                     0.010                    10.00  3.347410\n",
      "8                     0.100                     0.01  4.443374\n",
      "9                     0.100                     0.10  4.124327\n",
      "10                    0.100                     1.00  4.851871\n",
      "11                    0.100                    10.00  4.632755\n",
      "12                    0.500                     0.01  3.360278\n",
      "13                    0.500                     0.10  5.662113\n",
      "14                    0.500                     1.00  5.835808\n",
      "15                    0.500                    10.00  5.466099\n"
     ]
    }
   ],
   "source": [
    "import itertools\n",
    "import numpy as np\n",
    "import pandas as pd\n",
    "\n",
    "param_grid = {  \n",
    "    'changepoint_prior_scale': [0.001, 0.01, 0.1, 0.5],\n",
    "    'seasonality_prior_scale': [0.01, 0.1, 1.0, 10.0],\n",
    "}\n",
    "\n",
    "# Generate all combinations of parameters\n",
    "all_params = [dict(zip(param_grid.keys(), v)) for v in itertools.product(*param_grid.values())]\n",
    "mae = []  # Store the RMSEs for each params here\n",
    "\n",
    "# Use cross validation to evaluate all parameters\n",
    "for params in all_params:\n",
    "    m = Prophet(**params).fit(imputed_data2)  # Fit model with given params\n",
    "    df_cv = cross_validation(m, cutoffs=cutoffs, horizon='30 days', parallel=\"processes\")\n",
    "    df_p = performance_metrics(df_cv, rolling_window=1)\n",
    "    mae.append(df_p['mae'].values[0])\n",
    "\n",
    "# Find the best parameters\n",
    "tuning_results = pd.DataFrame(all_params)\n",
    "tuning_results['mae'] = mae\n",
    "print(tuning_results)"
   ]
  },
  {
   "cell_type": "code",
   "execution_count": 126,
   "id": "5c270bc0",
   "metadata": {},
   "outputs": [
    {
     "name": "stdout",
     "output_type": "stream",
     "text": [
      "{'changepoint_prior_scale': 0.01, 'seasonality_prior_scale': 1.0}\n"
     ]
    }
   ],
   "source": [
    "best_params = all_params[np.argmin(mae)]\n",
    "print(best_params)"
   ]
  },
  {
   "cell_type": "code",
   "execution_count": 127,
   "id": "932a2bcc",
   "metadata": {},
   "outputs": [
    {
     "name": "stderr",
     "output_type": "stream",
     "text": [
      "INFO:fbprophet:Making 2 forecasts with cutoffs between 2020-06-04 00:00:00 and 2020-12-01 00:00:00\n",
      "WARNING:fbprophet:Seasonality has period of 365.25 days which is larger than initial window. Consider increasing initial.\n"
     ]
    },
    {
     "data": {
      "application/vnd.jupyter.widget-view+json": {
       "model_id": "8c445e5c384d4dc8bb120f657902032d",
       "version_major": 2,
       "version_minor": 0
      },
      "text/plain": [
       "  0%|          | 0/2 [00:00<?, ?it/s]"
      ]
     },
     "metadata": {},
     "output_type": "display_data"
    }
   ],
   "source": [
    "df_cv = cross_validation(model, initial='365 days', period='180 days', horizon = '365 days')"
   ]
  },
  {
   "cell_type": "code",
   "execution_count": 128,
   "id": "7ee13d29",
   "metadata": {},
   "outputs": [
    {
     "data": {
      "text/html": [
       "<div>\n",
       "<style scoped>\n",
       "    .dataframe tbody tr th:only-of-type {\n",
       "        vertical-align: middle;\n",
       "    }\n",
       "\n",
       "    .dataframe tbody tr th {\n",
       "        vertical-align: top;\n",
       "    }\n",
       "\n",
       "    .dataframe thead th {\n",
       "        text-align: right;\n",
       "    }\n",
       "</style>\n",
       "<table border=\"1\" class=\"dataframe\">\n",
       "  <thead>\n",
       "    <tr style=\"text-align: right;\">\n",
       "      <th></th>\n",
       "      <th>ds</th>\n",
       "      <th>yhat</th>\n",
       "      <th>yhat_lower</th>\n",
       "      <th>yhat_upper</th>\n",
       "      <th>y</th>\n",
       "      <th>cutoff</th>\n",
       "    </tr>\n",
       "  </thead>\n",
       "  <tbody>\n",
       "    <tr>\n",
       "      <th>0</th>\n",
       "      <td>2020-07-01</td>\n",
       "      <td>1898.976587</td>\n",
       "      <td>1882.483792</td>\n",
       "      <td>1915.744318</td>\n",
       "      <td>1893.621401</td>\n",
       "      <td>2020-06-04</td>\n",
       "    </tr>\n",
       "    <tr>\n",
       "      <th>1</th>\n",
       "      <td>2020-07-01</td>\n",
       "      <td>1898.976587</td>\n",
       "      <td>1880.633436</td>\n",
       "      <td>1915.433128</td>\n",
       "      <td>1893.621401</td>\n",
       "      <td>2020-06-04</td>\n",
       "    </tr>\n",
       "    <tr>\n",
       "      <th>2</th>\n",
       "      <td>2020-07-01</td>\n",
       "      <td>1898.976587</td>\n",
       "      <td>1880.792717</td>\n",
       "      <td>1916.795180</td>\n",
       "      <td>1893.621401</td>\n",
       "      <td>2020-06-04</td>\n",
       "    </tr>\n",
       "    <tr>\n",
       "      <th>3</th>\n",
       "      <td>2020-07-01</td>\n",
       "      <td>1898.976587</td>\n",
       "      <td>1881.491051</td>\n",
       "      <td>1916.837989</td>\n",
       "      <td>1893.621401</td>\n",
       "      <td>2020-06-04</td>\n",
       "    </tr>\n",
       "    <tr>\n",
       "      <th>4</th>\n",
       "      <td>2020-07-01</td>\n",
       "      <td>1898.976587</td>\n",
       "      <td>1880.004516</td>\n",
       "      <td>1917.584208</td>\n",
       "      <td>1893.621401</td>\n",
       "      <td>2020-06-04</td>\n",
       "    </tr>\n",
       "  </tbody>\n",
       "</table>\n",
       "</div>"
      ],
      "text/plain": [
       "          ds         yhat   yhat_lower   yhat_upper            y     cutoff\n",
       "0 2020-07-01  1898.976587  1882.483792  1915.744318  1893.621401 2020-06-04\n",
       "1 2020-07-01  1898.976587  1880.633436  1915.433128  1893.621401 2020-06-04\n",
       "2 2020-07-01  1898.976587  1880.792717  1916.795180  1893.621401 2020-06-04\n",
       "3 2020-07-01  1898.976587  1881.491051  1916.837989  1893.621401 2020-06-04\n",
       "4 2020-07-01  1898.976587  1880.004516  1917.584208  1893.621401 2020-06-04"
      ]
     },
     "execution_count": 128,
     "metadata": {},
     "output_type": "execute_result"
    }
   ],
   "source": [
    "df_cv.head()"
   ]
  },
  {
   "cell_type": "code",
   "execution_count": 129,
   "id": "959480d1",
   "metadata": {},
   "outputs": [
    {
     "data": {
      "text/html": [
       "<div>\n",
       "<style scoped>\n",
       "    .dataframe tbody tr th:only-of-type {\n",
       "        vertical-align: middle;\n",
       "    }\n",
       "\n",
       "    .dataframe tbody tr th {\n",
       "        vertical-align: top;\n",
       "    }\n",
       "\n",
       "    .dataframe thead th {\n",
       "        text-align: right;\n",
       "    }\n",
       "</style>\n",
       "<table border=\"1\" class=\"dataframe\">\n",
       "  <thead>\n",
       "    <tr style=\"text-align: right;\">\n",
       "      <th></th>\n",
       "      <th>horizon</th>\n",
       "      <th>mse</th>\n",
       "      <th>rmse</th>\n",
       "      <th>mae</th>\n",
       "      <th>mape</th>\n",
       "      <th>mdape</th>\n",
       "      <th>coverage</th>\n",
       "    </tr>\n",
       "  </thead>\n",
       "  <tbody>\n",
       "    <tr>\n",
       "      <th>0</th>\n",
       "      <td>58 days</td>\n",
       "      <td>174.409963</td>\n",
       "      <td>13.206436</td>\n",
       "      <td>7.811054</td>\n",
       "      <td>0.004077</td>\n",
       "      <td>0.001795</td>\n",
       "      <td>0.869281</td>\n",
       "    </tr>\n",
       "    <tr>\n",
       "      <th>1</th>\n",
       "      <td>62 days</td>\n",
       "      <td>314.149566</td>\n",
       "      <td>17.724265</td>\n",
       "      <td>12.861199</td>\n",
       "      <td>0.006728</td>\n",
       "      <td>0.004153</td>\n",
       "      <td>0.648284</td>\n",
       "    </tr>\n",
       "    <tr>\n",
       "      <th>2</th>\n",
       "      <td>89 days</td>\n",
       "      <td>338.453554</td>\n",
       "      <td>18.397107</td>\n",
       "      <td>15.032044</td>\n",
       "      <td>0.007844</td>\n",
       "      <td>0.006846</td>\n",
       "      <td>0.620915</td>\n",
       "    </tr>\n",
       "    <tr>\n",
       "      <th>3</th>\n",
       "      <td>90 days</td>\n",
       "      <td>390.438881</td>\n",
       "      <td>19.759526</td>\n",
       "      <td>14.189874</td>\n",
       "      <td>0.007369</td>\n",
       "      <td>0.005491</td>\n",
       "      <td>0.719158</td>\n",
       "    </tr>\n",
       "    <tr>\n",
       "      <th>4</th>\n",
       "      <td>119 days</td>\n",
       "      <td>238.967076</td>\n",
       "      <td>15.458560</td>\n",
       "      <td>7.543413</td>\n",
       "      <td>0.003907</td>\n",
       "      <td>0.001260</td>\n",
       "      <td>0.884395</td>\n",
       "    </tr>\n",
       "  </tbody>\n",
       "</table>\n",
       "</div>"
      ],
      "text/plain": [
       "   horizon         mse       rmse        mae      mape     mdape  coverage\n",
       "0  58 days  174.409963  13.206436   7.811054  0.004077  0.001795  0.869281\n",
       "1  62 days  314.149566  17.724265  12.861199  0.006728  0.004153  0.648284\n",
       "2  89 days  338.453554  18.397107  15.032044  0.007844  0.006846  0.620915\n",
       "3  90 days  390.438881  19.759526  14.189874  0.007369  0.005491  0.719158\n",
       "4 119 days  238.967076  15.458560   7.543413  0.003907  0.001260  0.884395"
      ]
     },
     "execution_count": 129,
     "metadata": {},
     "output_type": "execute_result"
    }
   ],
   "source": [
    "df_p = performance_metrics(df_cv)\n",
    "df_p.head()"
   ]
  },
  {
   "cell_type": "code",
   "execution_count": 130,
   "id": "ac5b2c8b",
   "metadata": {},
   "outputs": [
    {
     "data": {
      "image/png": "[encoded data removed]",
      "text/plain": [
       "<Figure size 720x432 with 1 Axes>"
      ]
     },
     "metadata": {},
     "output_type": "display_data"
    }
   ],
   "source": [
    "fig = plot_cross_validation_metric(df_cv, metric='mape')"
   ]
  },
  {
   "cell_type": "code",
   "execution_count": null,
   "id": "a655780b",
   "metadata": {},
   "outputs": [],
   "source": []
  }
 ],
 "metadata": {
  "kernelspec": {
   "display_name": "Python 3 (ipykernel)",
   "language": "python",
   "name": "python3"
  },
  "language_info": {
   "codemirror_mode": {
    "name": "ipython",
    "version": 3
   },
   "file_extension": ".py",
   "mimetype": "text/x-python",
   "name": "python",
   "nbconvert_exporter": "python",
   "pygments_lexer": "ipython3",
   "version": "3.8.5"
  }
 },
 "nbformat": 4,
 "nbformat_minor": 5
}
